{
 "cells": [
  {
   "cell_type": "markdown",
   "id": "d99b1a61",
   "metadata": {},
   "source": [
    "## Q.1"
   ]
  },
  {
   "cell_type": "code",
   "execution_count": 1,
   "id": "9b20e921",
   "metadata": {},
   "outputs": [
    {
     "name": "stdout",
     "output_type": "stream",
     "text": [
      "This is a placement assignment\n"
     ]
    }
   ],
   "source": [
    "# Before replacement \n",
    "with open('example.txt','r')as f:\n",
    "    data = f.read()\n",
    "\n",
    "print(data)"
   ]
  },
  {
   "cell_type": "code",
   "execution_count": 2,
   "id": "64e75c26",
   "metadata": {},
   "outputs": [],
   "source": [
    "#1. Create a function in python to read the text file and replace specific content of the file.\n",
    "\n",
    "def replace(filename,word_to_replace,replacemnet):\n",
    "    with open(filename,'r') as f:\n",
    "        # read the file\n",
    "        data = f.read()\n",
    "        \n",
    "        # replace the string\n",
    "        data = data.replace(word_to_replace,replacemnet)\n",
    "        \n",
    "    # Write the file out again\n",
    "    with open(filename, 'w') as f:\n",
    "        f.write(data)"
   ]
  },
  {
   "cell_type": "code",
   "execution_count": 3,
   "id": "a7c372d9",
   "metadata": {},
   "outputs": [],
   "source": [
    "replace('example.txt','placement','screening')"
   ]
  },
  {
   "cell_type": "code",
   "execution_count": 4,
   "id": "0a110abe",
   "metadata": {},
   "outputs": [
    {
     "name": "stdout",
     "output_type": "stream",
     "text": [
      "This is a screening assignment\n"
     ]
    }
   ],
   "source": [
    "# After replacement \n",
    "with open('example.txt','r')as f:\n",
    "    data = f.read()\n",
    "\n",
    "print(data)"
   ]
  },
  {
   "cell_type": "markdown",
   "id": "651a28a8",
   "metadata": {},
   "source": [
    "## Q.2"
   ]
  },
  {
   "cell_type": "code",
   "execution_count": 5,
   "id": "f286a90a",
   "metadata": {},
   "outputs": [],
   "source": [
    "# Demonstrate use of abstract class, multiple inheritance and decorator in python using examples."
   ]
  },
  {
   "cell_type": "code",
   "execution_count": 6,
   "id": "65cd1ba5",
   "metadata": {},
   "outputs": [],
   "source": [
    "#abstract base class\n",
    "from abc import ABC,abstractmethod\n",
    "\n",
    "class AbstractClass(ABC):\n",
    "    @abstractmethod\n",
    "    def play(self):\n",
    "        pass"
   ]
  },
  {
   "cell_type": "code",
   "execution_count": 7,
   "id": "2403da0d",
   "metadata": {},
   "outputs": [
    {
     "ename": "TypeError",
     "evalue": "Can't instantiate abstract class Cricket with abstract methods play",
     "output_type": "error",
     "traceback": [
      "\u001b[1;31m---------------------------------------------------------------------------\u001b[0m",
      "\u001b[1;31mTypeError\u001b[0m                                 Traceback (most recent call last)",
      "Input \u001b[1;32mIn [7]\u001b[0m, in \u001b[0;36m<cell line: 3>\u001b[1;34m()\u001b[0m\n\u001b[0;32m      1\u001b[0m \u001b[38;5;28;01mclass\u001b[39;00m \u001b[38;5;21;01mCricket\u001b[39;00m(AbstractClass):\n\u001b[0;32m      2\u001b[0m     \u001b[38;5;28;01mpass\u001b[39;00m\n\u001b[1;32m----> 3\u001b[0m obj1 \u001b[38;5;241m=\u001b[39m \u001b[43mCricket\u001b[49m\u001b[43m(\u001b[49m\u001b[43m)\u001b[49m\n",
      "\u001b[1;31mTypeError\u001b[0m: Can't instantiate abstract class Cricket with abstract methods play"
     ]
    }
   ],
   "source": [
    "class Cricket(AbstractClass):\n",
    "    pass\n",
    "obj1 = Cricket()"
   ]
  },
  {
   "cell_type": "code",
   "execution_count": 8,
   "id": "9bbb84cb",
   "metadata": {},
   "outputs": [],
   "source": [
    "## abstract method makes it a compulsion to be present in abstract classes"
   ]
  },
  {
   "cell_type": "code",
   "execution_count": 9,
   "id": "46aab25d",
   "metadata": {},
   "outputs": [],
   "source": [
    "class Cricket(AbstractClass):\n",
    "    def play(self):\n",
    "        print('playing cricket')\n"
   ]
  },
  {
   "cell_type": "code",
   "execution_count": 10,
   "id": "80f2c745",
   "metadata": {},
   "outputs": [
    {
     "name": "stdout",
     "output_type": "stream",
     "text": [
      "playing cricket\n"
     ]
    }
   ],
   "source": [
    "obj1 = Cricket()\n",
    "obj1.play()"
   ]
  },
  {
   "cell_type": "markdown",
   "id": "2b002362",
   "metadata": {},
   "source": [
    "## Multiple inheritance example"
   ]
  },
  {
   "cell_type": "code",
   "execution_count": 11,
   "id": "1cb6a8f5",
   "metadata": {},
   "outputs": [],
   "source": [
    "class Car:\n",
    "    def cardrive(self):\n",
    "        print('This is a Car drive')\n",
    "\n",
    "class Bike:\n",
    "    def bikedrive(self):\n",
    "        print('This is a Bike drive')\n",
    "        \n",
    "class Vehicle(Car,Bike):\n",
    "    def driving(self):\n",
    "        print('This is a Bike or Car drive')"
   ]
  },
  {
   "cell_type": "code",
   "execution_count": 12,
   "id": "a9c9ada7",
   "metadata": {},
   "outputs": [],
   "source": [
    "obj = Vehicle()"
   ]
  },
  {
   "cell_type": "code",
   "execution_count": 13,
   "id": "eb4c4490",
   "metadata": {},
   "outputs": [
    {
     "name": "stdout",
     "output_type": "stream",
     "text": [
      "This is a Car drive\n"
     ]
    }
   ],
   "source": [
    "obj.cardrive()"
   ]
  },
  {
   "cell_type": "code",
   "execution_count": 14,
   "id": "b67b4e41",
   "metadata": {},
   "outputs": [
    {
     "name": "stdout",
     "output_type": "stream",
     "text": [
      "This is a Bike drive\n"
     ]
    }
   ],
   "source": [
    "obj.bikedrive()"
   ]
  },
  {
   "cell_type": "code",
   "execution_count": 15,
   "id": "46f29e39",
   "metadata": {},
   "outputs": [
    {
     "name": "stdout",
     "output_type": "stream",
     "text": [
      "This is a Bike or Car drive\n"
     ]
    }
   ],
   "source": [
    "obj.driving()"
   ]
  },
  {
   "cell_type": "markdown",
   "id": "a8ae2f97",
   "metadata": {},
   "source": [
    "## Decorator example"
   ]
  },
  {
   "cell_type": "code",
   "execution_count": 16,
   "id": "1c96ccb4",
   "metadata": {},
   "outputs": [],
   "source": [
    "def Addition(func):\n",
    "    def number(a,b):\n",
    "        print(f'Adding {a} and {b}')\n",
    "        return func(a,b)\n",
    "    return number   "
   ]
  },
  {
   "cell_type": "code",
   "execution_count": 17,
   "id": "77b17863",
   "metadata": {},
   "outputs": [],
   "source": [
    "@Addition\n",
    "def add(a,b):\n",
    "    print(a+b)"
   ]
  },
  {
   "cell_type": "code",
   "execution_count": 18,
   "id": "e176ee18",
   "metadata": {},
   "outputs": [
    {
     "name": "stdout",
     "output_type": "stream",
     "text": [
      "Adding 2 and 3\n",
      "5\n"
     ]
    }
   ],
   "source": [
    "add(2,3)"
   ]
  },
  {
   "cell_type": "code",
   "execution_count": null,
   "id": "164aac78",
   "metadata": {},
   "outputs": [],
   "source": []
  }
 ],
 "metadata": {
  "kernelspec": {
   "display_name": "Python 3 (ipykernel)",
   "language": "python",
   "name": "python3"
  },
  "language_info": {
   "codemirror_mode": {
    "name": "ipython",
    "version": 3
   },
   "file_extension": ".py",
   "mimetype": "text/x-python",
   "name": "python",
   "nbconvert_exporter": "python",
   "pygments_lexer": "ipython3",
   "version": "3.8.3"
  }
 },
 "nbformat": 4,
 "nbformat_minor": 5
}
