{
 "cells": [
  {
   "cell_type": "code",
   "execution_count": 1,
   "metadata": {},
   "outputs": [],
   "source": [
    "# Question 1.\n",
    "# Given a sentence as txt, return True if any two adjacent words have this property:\n",
    "# One word ends with a vowel, while the word immediately after begins with a vowel \n",
    "\n",
    "def vowel_links(sentence):\n",
    "    sentence = sentence.split(' ')\n",
    "    vowels = 'aeiou'\n",
    "    for i in range(len(sentence)-1):\n",
    "        if sentence[i][-1] in vowels and sentence[i+1][0] in vowels:\n",
    "            return True\n",
    "    else:\n",
    "        return False"
   ]
  },
  {
   "cell_type": "code",
   "execution_count": 2,
   "metadata": {},
   "outputs": [
    {
     "data": {
      "text/plain": [
       "True"
      ]
     },
     "execution_count": 2,
     "metadata": {},
     "output_type": "execute_result"
    }
   ],
   "source": [
    "vowel_links(\"a very large appliance\") "
   ]
  },
  {
   "cell_type": "code",
   "execution_count": 3,
   "metadata": {},
   "outputs": [
    {
     "data": {
      "text/plain": [
       "True"
      ]
     },
     "execution_count": 3,
     "metadata": {},
     "output_type": "execute_result"
    }
   ],
   "source": [
    "vowel_links(\"go to edabit\") "
   ]
  },
  {
   "cell_type": "code",
   "execution_count": 4,
   "metadata": {},
   "outputs": [
    {
     "data": {
      "text/plain": [
       "False"
      ]
     },
     "execution_count": 4,
     "metadata": {},
     "output_type": "execute_result"
    }
   ],
   "source": [
    "vowel_links(\"an open fire\") "
   ]
  },
  {
   "cell_type": "code",
   "execution_count": 5,
   "metadata": {},
   "outputs": [
    {
     "data": {
      "text/plain": [
       "False"
      ]
     },
     "execution_count": 5,
     "metadata": {},
     "output_type": "execute_result"
    }
   ],
   "source": [
    "vowel_links(\"a sudden applause\") "
   ]
  },
  {
   "cell_type": "code",
   "execution_count": 6,
   "metadata": {},
   "outputs": [],
   "source": [
    "# Question 2. \n",
    "# You are given three inputs: a string, one letter, and a second letter.\n",
    "# Write a function that returns True if every instance of the first letter occurs before every instance of the second letter.\n",
    "\n",
    "def first_before_second(sentence,s1,s2):\n",
    "    order = [i for i in sentence if i == s1 or i == s2]\n",
    "    a = ''.join(order)\n",
    "    b = s2+s1\n",
    "    if b in a:\n",
    "        return False\n",
    "    else:\n",
    "        return True"
   ]
  },
  {
   "cell_type": "code",
   "execution_count": 7,
   "metadata": {},
   "outputs": [
    {
     "data": {
      "text/plain": [
       "True"
      ]
     },
     "execution_count": 7,
     "metadata": {},
     "output_type": "execute_result"
    }
   ],
   "source": [
    "first_before_second(\"a rabbit jumps joyfully\", \"a\", \"j\") "
   ]
  },
  {
   "cell_type": "code",
   "execution_count": 8,
   "metadata": {},
   "outputs": [
    {
     "data": {
      "text/plain": [
       "True"
      ]
     },
     "execution_count": 8,
     "metadata": {},
     "output_type": "execute_result"
    }
   ],
   "source": [
    "first_before_second(\"knaves knew about waterfalls\", \"k\", \"w\") "
   ]
  },
  {
   "cell_type": "code",
   "execution_count": 9,
   "metadata": {},
   "outputs": [
    {
     "data": {
      "text/plain": [
       "False"
      ]
     },
     "execution_count": 9,
     "metadata": {},
     "output_type": "execute_result"
    }
   ],
   "source": [
    "first_before_second(\"happy birthday\", \"a\", \"y\") "
   ]
  },
  {
   "cell_type": "code",
   "execution_count": 10,
   "metadata": {},
   "outputs": [],
   "source": [
    "# Question 3. \n",
    "# Create a function that returns the characters from a list or string r on odd or even positions, depending on the specifier s. \n",
    "# The specifier will be \"odd\" for items on odd positions (1, 3, 5, ...) and \"even\" for items on even positions (2, 4, 6, ...).\n",
    "\n",
    "def char_at_pos(list_str,odd_even):\n",
    "    odd = [i for i in range(len(list_str)) if i%2==0]\n",
    "    even = [i for i in range(len(list_str)) if i%2!=0]\n",
    "    \n",
    "    if odd_even == 'odd':\n",
    "        result = [list_str[i] for i in odd]\n",
    "        if type(list_str) == str:\n",
    "            return ''.join(result)\n",
    "        else:\n",
    "            return result\n",
    "    if odd_even == 'even':\n",
    "        result = [list_str[i] for i in even]\n",
    "        if type(list_str) == str:\n",
    "            return ''.join(result)\n",
    "        else:\n",
    "            return result"
   ]
  },
  {
   "cell_type": "code",
   "execution_count": 11,
   "metadata": {},
   "outputs": [
    {
     "data": {
      "text/plain": [
       "[4, 8]"
      ]
     },
     "execution_count": 11,
     "metadata": {},
     "output_type": "execute_result"
    }
   ],
   "source": [
    "char_at_pos([2, 4, 6, 8, 10], \"even\")"
   ]
  },
  {
   "cell_type": "code",
   "execution_count": 12,
   "metadata": {},
   "outputs": [
    {
     "data": {
      "text/plain": [
       "'EAI'"
      ]
     },
     "execution_count": 12,
     "metadata": {},
     "output_type": "execute_result"
    }
   ],
   "source": [
    "char_at_pos(\"EDABIT\", \"odd\") "
   ]
  },
  {
   "cell_type": "code",
   "execution_count": 13,
   "metadata": {},
   "outputs": [
    {
     "data": {
      "text/plain": [
       "['A', 'B', 'T', 'A', 'I', 'Y']"
      ]
     },
     "execution_count": 13,
     "metadata": {},
     "output_type": "execute_result"
    }
   ],
   "source": [
    "char_at_pos([\"A\", \"R\", \"B\", \"I\", \"T\", \"R\", \"A\", \"R\", \"I\", \"L\", \"Y\"], \"odd\") "
   ]
  },
  {
   "cell_type": "code",
   "execution_count": 14,
   "metadata": {},
   "outputs": [],
   "source": [
    "# Question 4.\n",
    "# Write a function that returns the greatest common divisor of all list elements. \n",
    "# If the greatest common divisor is 1, return 1\n",
    "\n",
    "def GCD(list1):\n",
    "    list1.sort()\n",
    "    GCD = []\n",
    "    for i in range(len(list1)):\n",
    "        GCD.append([j for j in range(1,list1[i]+1) if list1[i]%j == 0])\n",
    "    \n",
    "    gcd = []\n",
    "    for i in range(1,len(GCD[0])):\n",
    "        result = []\n",
    "        for j in range(1,len(GCD)):\n",
    "            if GCD[0][-i] in GCD[j]:\n",
    "                result.append(True)\n",
    "            if sum(result) == len(GCD)-1:\n",
    "                gcd.append(GCD[0][-i])\n",
    "    if gcd == []:\n",
    "        return 1\n",
    "    else:\n",
    "        return max(gcd)"
   ]
  },
  {
   "cell_type": "code",
   "execution_count": 15,
   "metadata": {},
   "outputs": [
    {
     "data": {
      "text/plain": [
       "10"
      ]
     },
     "execution_count": 15,
     "metadata": {},
     "output_type": "execute_result"
    }
   ],
   "source": [
    "GCD([10, 20, 40]) "
   ]
  },
  {
   "cell_type": "code",
   "execution_count": 16,
   "metadata": {},
   "outputs": [
    {
     "data": {
      "text/plain": [
       "1"
      ]
     },
     "execution_count": 16,
     "metadata": {},
     "output_type": "execute_result"
    }
   ],
   "source": [
    "GCD([1, 2, 3, 100]) "
   ]
  },
  {
   "cell_type": "code",
   "execution_count": 17,
   "metadata": {},
   "outputs": [
    {
     "data": {
      "text/plain": [
       "64"
      ]
     },
     "execution_count": 17,
     "metadata": {},
     "output_type": "execute_result"
    }
   ],
   "source": [
    "GCD([1024, 192, 2048, 512]) "
   ]
  },
  {
   "cell_type": "code",
   "execution_count": 18,
   "metadata": {},
   "outputs": [],
   "source": [
    "# Question 5.\n",
    "# Given a positive number n, check if n or the binary representation of n is palindromic\n",
    "\n",
    "def palindrome_type(int1):\n",
    "    fwd_int = [i for i in str(int1)]\n",
    "    \n",
    "    rev_int = [i for i in str(int1)]\n",
    "    rev_int.reverse()\n",
    "    \n",
    "    fwd_bin = bin(int1)\n",
    "    fwd_bin = fwd_bin[2:]\n",
    "    fwd_bin = [i for i in fwd_bin]\n",
    "    \n",
    "    rev_bin = [i for i in fwd_bin]\n",
    "    rev_bin.reverse()\n",
    "    \n",
    "    if fwd_int == rev_int and fwd_bin == rev_bin:\n",
    "        return \"Decimal and binary.\" \n",
    "    elif fwd_int == rev_int:\n",
    "        return \"Decimal only.\" \n",
    "    elif fwd_bin == rev_bin:\n",
    "        return \"Binary only.\" \n",
    "    else :\n",
    "        return \"Neither!\" "
   ]
  },
  {
   "cell_type": "code",
   "execution_count": 19,
   "metadata": {},
   "outputs": [
    {
     "data": {
      "text/plain": [
       "'Decimal only.'"
      ]
     },
     "execution_count": 19,
     "metadata": {},
     "output_type": "execute_result"
    }
   ],
   "source": [
    "palindrome_type(1306031) "
   ]
  },
  {
   "cell_type": "code",
   "execution_count": 20,
   "metadata": {},
   "outputs": [
    {
     "data": {
      "text/plain": [
       "'Binary only.'"
      ]
     },
     "execution_count": 20,
     "metadata": {},
     "output_type": "execute_result"
    }
   ],
   "source": [
    "palindrome_type(427787) "
   ]
  },
  {
   "cell_type": "code",
   "execution_count": 21,
   "metadata": {},
   "outputs": [
    {
     "data": {
      "text/plain": [
       "'Decimal and binary.'"
      ]
     },
     "execution_count": 21,
     "metadata": {},
     "output_type": "execute_result"
    }
   ],
   "source": [
    "palindrome_type(313)"
   ]
  },
  {
   "cell_type": "code",
   "execution_count": 22,
   "metadata": {},
   "outputs": [
    {
     "data": {
      "text/plain": [
       "'Neither!'"
      ]
     },
     "execution_count": 22,
     "metadata": {},
     "output_type": "execute_result"
    }
   ],
   "source": [
    "palindrome_type(934)"
   ]
  }
 ],
 "metadata": {
  "kernelspec": {
   "display_name": "Python 3",
   "language": "python",
   "name": "python3"
  },
  "language_info": {
   "codemirror_mode": {
    "name": "ipython",
    "version": 3
   },
   "file_extension": ".py",
   "mimetype": "text/x-python",
   "name": "python",
   "nbconvert_exporter": "python",
   "pygments_lexer": "ipython3",
   "version": "3.8.3"
  }
 },
 "nbformat": 4,
 "nbformat_minor": 4
}
