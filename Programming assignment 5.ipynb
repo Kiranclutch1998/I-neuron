{
 "cells": [
  {
   "cell_type": "code",
   "execution_count": 1,
   "metadata": {},
   "outputs": [
    {
     "name": "stdout",
     "output_type": "stream",
     "text": [
      "enter first number 12\n",
      "enter second number 14\n",
      "LCM of 12 and 14 is 84\n"
     ]
    }
   ],
   "source": [
    "# 1. Write a Python Program to Find LCM?\n",
    "\n",
    "num1 = int(input('enter first number '))\n",
    "num2 = int(input('enter second number '))\n",
    "\n",
    "if num1 > num2 :\n",
    "    gnum = num1\n",
    "else:    \n",
    "    gnum = num2\n",
    "    \n",
    "while(True):\n",
    "    if (gnum % num1 == 0) and (gnum % num2 == 0):\n",
    "        print('LCM of {} and {} is {}'.format(num1,num2,gnum))\n",
    "        break   \n",
    "    gnum += 1    "
   ]
  },
  {
   "cell_type": "code",
   "execution_count": 2,
   "metadata": {},
   "outputs": [
    {
     "name": "stdout",
     "output_type": "stream",
     "text": [
      "enter first number 123\n",
      "enter second number 321\n",
      "HCF of 123 and 321 is 3\n"
     ]
    }
   ],
   "source": [
    "# 2. Write a Python Program to Find HCF?\n",
    "\n",
    "num1 = int(input('enter first number '))\n",
    "num2 = int(input('enter second number '))\n",
    "\n",
    "if num1 > num2 :\n",
    "    snum = num2\n",
    "else:    \n",
    "    snum = num1\n",
    "\n",
    "for i in range(1,snum+1):\n",
    "    if (num1 % i == 0) and (num2 % i == 0):\n",
    "        hcf = i\n",
    "print('HCF of {} and {} is {}'.format(num1,num2,hcf))"
   ]
  },
  {
   "cell_type": "code",
   "execution_count": 3,
   "metadata": {},
   "outputs": [
    {
     "name": "stdout",
     "output_type": "stream",
     "text": [
      "Enter a number: 55\n",
      "55 = 0b110111 in binary form\n",
      "55 = 0o67 in octal form\n",
      "55 = 0x37 in hexadecimal form\n"
     ]
    }
   ],
   "source": [
    "# 3  .Write a Python Program to Convert Decimal to Binary, Octal and Hexadecimal?\n",
    "\n",
    "decimal = int(input(\"Enter a number: \"))  \n",
    "  \n",
    "print(decimal,'=',bin(decimal),\"in binary form\")  \n",
    "print(decimal,'=',oct(decimal),\"in octal form\")  \n",
    "print(decimal,'=',hex(decimal),\"in hexadecimal form\") "
   ]
  },
  {
   "cell_type": "code",
   "execution_count": 4,
   "metadata": {},
   "outputs": [
    {
     "name": "stdout",
     "output_type": "stream",
     "text": [
      "Enter any character: G\n",
      "The ASCII value of G is : 71 \n"
     ]
    }
   ],
   "source": [
    "# 4. Write a Python Program To Find ASCII value of a character?\n",
    "\n",
    "char = input(\"Enter any character: \")\n",
    "\n",
    "print(\"The ASCII value of {} is : {} \".format(char,ord(char)))"
   ]
  },
  {
   "cell_type": "code",
   "execution_count": 5,
   "metadata": {},
   "outputs": [
    {
     "name": "stdout",
     "output_type": "stream",
     "text": [
      "Code for operations are given below\n",
      "1 - Addition\n",
      "2 - Subtraction\n",
      "3 - Multiplication\n",
      "4 - Division\n",
      "Enter Code of operation3\n",
      "Enter first number: 4\n",
      "Enter second number: 5\n",
      "4 X 5 = 20\n"
     ]
    }
   ],
   "source": [
    "# 5.Write a Python Program to Make a Simple Calculator with 4 basic mathematical operations?\n",
    "\n",
    "print('Code for operations are given below')\n",
    "print('1 - Addition\\n2 - Subtraction\\n3 - Multiplication\\n4 - Division')\n",
    "\n",
    "code = int(input('Enter Code of operation'))\n",
    "num1 = int(input(\"Enter first number: \"))  \n",
    "num2 = int(input(\"Enter second number: \"))  \n",
    "\n",
    "if code == 1:\n",
    "    print('{} + {} = {}'.format(num1,num2,num1+num2))\n",
    "elif code == 2:\n",
    "    print('{} - {} = {}'.format(num1,num2,num1-num2))\n",
    "elif code == 3:\n",
    "    print('{} X {} = {}'.format(num1,num2,num1*num2))\n",
    "elif code == 4:\n",
    "    print('{} / {} = {}'.format(num1,num2,num1/num2))  \n",
    "else:\n",
    "    print('Enter proper code of operation')\n",
    "    "
   ]
  },
  {
   "cell_type": "code",
   "execution_count": null,
   "metadata": {},
   "outputs": [],
   "source": []
  }
 ],
 "metadata": {
  "kernelspec": {
   "display_name": "Python 3",
   "language": "python",
   "name": "python3"
  },
  "language_info": {
   "codemirror_mode": {
    "name": "ipython",
    "version": 3
   },
   "file_extension": ".py",
   "mimetype": "text/x-python",
   "name": "python",
   "nbconvert_exporter": "python",
   "pygments_lexer": "ipython3",
   "version": "3.8.3"
  }
 },
 "nbformat": 4,
 "nbformat_minor": 4
}
