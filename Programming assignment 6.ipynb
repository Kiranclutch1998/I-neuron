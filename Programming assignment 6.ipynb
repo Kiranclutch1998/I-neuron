{
 "cells": [
  {
   "cell_type": "code",
   "execution_count": 1,
   "metadata": {},
   "outputs": [
    {
     "name": "stdout",
     "output_type": "stream",
     "text": [
      "Enter number of terms to display12\n",
      "Fibbonacci sequence :\n",
      "0\n",
      "1\n",
      "1\n",
      "2\n",
      "3\n",
      "5\n",
      "8\n",
      "13\n",
      "21\n",
      "34\n",
      "55\n",
      "89\n"
     ]
    }
   ],
   "source": [
    "#1.Write a Python Program to Display Fibonacci Sequence Using Recursion?\n",
    "\n",
    "def fibb(n):\n",
    "    \n",
    "    if n<=1:\n",
    "        return n\n",
    "    else:\n",
    "        return (fibb(n-1)+fibb(n-2))\n",
    "    \n",
    " #checking number of terms is valid  \n",
    "no_of_terms = int(input('Enter number of terms to display')) \n",
    "if no_of_terms < 1:\n",
    "    print('Enter a positive integer')\n",
    "else:\n",
    "    print('Fibbonacci sequence :')\n",
    "    for i in range(no_of_terms):\n",
    "        print(fibb(i))"
   ]
  },
  {
   "cell_type": "code",
   "execution_count": 3,
   "metadata": {},
   "outputs": [
    {
     "name": "stdout",
     "output_type": "stream",
     "text": [
      "Enter number:6\n",
      "The factorial of 6 is 720\n"
     ]
    }
   ],
   "source": [
    "# 2.Write a Python Program to Find Factorial of Number Using Recursion?\n",
    "\n",
    "def factorial(n):\n",
    "    if n <= 1:\n",
    "        return 1\n",
    "    else:\n",
    "        return (n*factorial(n-1))\n",
    "    \n",
    "fact = int(input('Enter number:')) \n",
    "print('The factorial of {} is {}'.format(fact,factorial(fact)))"
   ]
  },
  {
   "cell_type": "code",
   "execution_count": 5,
   "metadata": {},
   "outputs": [
    {
     "name": "stdout",
     "output_type": "stream",
     "text": [
      "Enter your weight in kg: 82\n",
      "Enter your height in cm: 182\n",
      "Body Mass Index(BMI) = 24.755464315903875\n"
     ]
    }
   ],
   "source": [
    "# 3.Write a Python Program to calculate your Body Mass Index?\n",
    "\n",
    "weight = int(input('Enter your weight in kg: '))\n",
    "height = int(input('Enter your height in cm: '))\n",
    "\n",
    "bmi = (weight*100*100)/(height**2)\n",
    "print('Body Mass Index(BMI) = {}'.format(bmi))"
   ]
  },
  {
   "cell_type": "code",
   "execution_count": 6,
   "metadata": {},
   "outputs": [
    {
     "name": "stdout",
     "output_type": "stream",
     "text": [
      "Enter number:12\n",
      "Natural logarithm of 12 is 2.4849066497880004\n"
     ]
    }
   ],
   "source": [
    "# 4.Write a Python Program to calculate the natural logarithm of any number?\n",
    "\n",
    "import math\n",
    "\n",
    "ln = int(input('Enter number:')) \n",
    "print('Natural logarithm of {} is {}'.format(ln,math.log(ln)))"
   ]
  },
  {
   "cell_type": "code",
   "execution_count": 7,
   "metadata": {},
   "outputs": [
    {
     "name": "stdout",
     "output_type": "stream",
     "text": [
      "Enter value of n:9\n",
      "Cube sum of first 9 natural numbers is 2025\n"
     ]
    }
   ],
   "source": [
    "# 5.Write a Python Program for cube sum of first n natural numbers?\n",
    "\n",
    "n = int(input('Enter value of n:'))\n",
    "sum =0\n",
    "for i in range(n+1):\n",
    "    sum = sum + i**3\n",
    "print('Cube sum of first {} natural numbers is {}'.format(n,sum))   "
   ]
  },
  {
   "cell_type": "code",
   "execution_count": null,
   "metadata": {},
   "outputs": [],
   "source": [
    "# 6."
   ]
  }
 ],
 "metadata": {
  "kernelspec": {
   "display_name": "Python 3",
   "language": "python",
   "name": "python3"
  },
  "language_info": {
   "codemirror_mode": {
    "name": "ipython",
    "version": 3
   },
   "file_extension": ".py",
   "mimetype": "text/x-python",
   "name": "python",
   "nbconvert_exporter": "python",
   "pygments_lexer": "ipython3",
   "version": "3.8.3"
  }
 },
 "nbformat": 4,
 "nbformat_minor": 4
}
