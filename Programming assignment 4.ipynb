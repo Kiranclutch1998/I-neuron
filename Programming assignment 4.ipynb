{
 "cells": [
  {
   "cell_type": "code",
   "execution_count": 1,
   "metadata": {},
   "outputs": [
    {
     "name": "stdout",
     "output_type": "stream",
     "text": [
      "Enter number to get factorial7\n",
      "7! = 5040\n"
     ]
    }
   ],
   "source": [
    "# 1.Write a Python Program to Find the Factorial of a Number?\n",
    "\n",
    "num = int(input('Enter number to get factorial'))\n",
    "\n",
    "factorial = num * 1\n",
    "\n",
    "for i in range(2,num):\n",
    "    factorial = factorial * i\n",
    "print('{}! = {}'.format(num,factorial)) "
   ]
  },
  {
   "cell_type": "code",
   "execution_count": 2,
   "metadata": {},
   "outputs": [
    {
     "name": "stdout",
     "output_type": "stream",
     "text": [
      "Enter number to get multiplication Table12\n",
      "12 X 1 = 12\n",
      "12 X 2 = 24\n",
      "12 X 3 = 36\n",
      "12 X 4 = 48\n",
      "12 X 5 = 60\n",
      "12 X 6 = 72\n",
      "12 X 7 = 84\n",
      "12 X 8 = 96\n",
      "12 X 9 = 108\n",
      "12 X 10 = 120\n"
     ]
    }
   ],
   "source": [
    "# 2 .Write a Python Program to Display the multiplication Table?\n",
    "\n",
    "num = int(input('Enter number to get multiplication Table'))\n",
    "\n",
    "for i in range(1,11):\n",
    "    print('{} X {} = {}'.format(num,i,num*i))"
   ]
  },
  {
   "cell_type": "code",
   "execution_count": 3,
   "metadata": {},
   "outputs": [
    {
     "name": "stdout",
     "output_type": "stream",
     "text": [
      "0\n",
      "1\n",
      "1\n",
      "2\n",
      "3\n",
      "5\n",
      "8\n",
      "13\n",
      "21\n",
      "34\n",
      "55\n",
      "89\n",
      "144\n"
     ]
    }
   ],
   "source": [
    "# 3.Write a Python Program to Print the Fibonacci sequence?\n",
    "\n",
    "f1 = 0\n",
    "f2 = 1\n",
    "fib = 0\n",
    "while f1 < 200:\n",
    "    print(f1)\n",
    "    fib = f1+f2\n",
    "    f1 =f2\n",
    "    f2 = fib"
   ]
  },
  {
   "cell_type": "code",
   "execution_count": 4,
   "metadata": {},
   "outputs": [
    {
     "name": "stdout",
     "output_type": "stream",
     "text": [
      "Enter a number153\n",
      "153 is a armstrong number\n"
     ]
    }
   ],
   "source": [
    "# 4. Write a Python Program to Check Armstrong Number?\n",
    "\n",
    "num = int(input('Enter a number'))\n",
    "\n",
    "a= list(str(num))\n",
    "b= [int(i) for i in a]\n",
    "\n",
    "sum = 0\n",
    "for j in b: \n",
    "    sum = sum + j**3\n",
    "    \n",
    "if num == sum :\n",
    "    print('{} is a armstrong number'.format(num))\n",
    "else:\n",
    "    print('{} is not a armstrong number'.format(num))"
   ]
  },
  {
   "cell_type": "code",
   "execution_count": 6,
   "metadata": {},
   "outputs": [
    {
     "name": "stdout",
     "output_type": "stream",
     "text": [
      "Enter a lower interval 0\n",
      "Enter a upper interval 1000\n",
      "0\n",
      "1\n",
      "153\n",
      "370\n",
      "371\n",
      "407\n"
     ]
    }
   ],
   "source": [
    "# 5.Write a Python Program to Find Armstrong Number in an Interval?\n",
    "\n",
    "lower = int(input('Enter a lower interval '))\n",
    "upper = int(input('Enter a upper interval '))\n",
    "\n",
    "for num in range(lower,upper+1):\n",
    "    a= list(str(num))\n",
    "    b= [int(i) for i in a]\n",
    "    \n",
    "    sum = 0\n",
    "    for j in b: \n",
    "        sum = sum + j**3\n",
    "    \n",
    "    if num == sum :\n",
    "        print(num)"
   ]
  },
  {
   "cell_type": "code",
   "execution_count": 7,
   "metadata": {},
   "outputs": [
    {
     "name": "stdout",
     "output_type": "stream",
     "text": [
      "Enter value of n :10\n",
      "55\n"
     ]
    }
   ],
   "source": [
    "# 6.Write a Python Program to Find the Sum of Natural Numbers?\n",
    "\n",
    "num = int(input('Enter value of n :'))\n",
    "sum = 0\n",
    "\n",
    "if num <= 0:\n",
    "    print('Enter a positive whole number')\n",
    "else:\n",
    "    for i in range(1,num+1):\n",
    "        sum = sum + i\n",
    "    print(sum) "
   ]
  },
  {
   "cell_type": "code",
   "execution_count": null,
   "metadata": {},
   "outputs": [],
   "source": []
  }
 ],
 "metadata": {
  "kernelspec": {
   "display_name": "Python 3",
   "language": "python",
   "name": "python3"
  },
  "language_info": {
   "codemirror_mode": {
    "name": "ipython",
    "version": 3
   },
   "file_extension": ".py",
   "mimetype": "text/x-python",
   "name": "python",
   "nbconvert_exporter": "python",
   "pygments_lexer": "ipython3",
   "version": "3.8.3"
  }
 },
 "nbformat": 4,
 "nbformat_minor": 4
}
