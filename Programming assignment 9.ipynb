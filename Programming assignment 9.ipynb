{
 "cells": [
  {
   "cell_type": "code",
   "execution_count": 3,
   "metadata": {},
   "outputs": [
    {
     "name": "stdout",
     "output_type": "stream",
     "text": [
      "Enter a number: 89\n",
      "89 is a disarium number\n"
     ]
    }
   ],
   "source": [
    "# 1.Write a Python program to check if the given number is a Disarium Number?\n",
    "\n",
    "num = input('Enter a number: ')\n",
    "disnum = []\n",
    "\n",
    "for i in num:\n",
    "    disnum.append(int(i))\n",
    "    \n",
    "sum = 0 \n",
    "\n",
    "for i,j in zip(disnum,range(1,len(disnum)+1)):\n",
    "    sum = sum + i**j\n",
    "   \n",
    "if sum == int(num):\n",
    "    print('{} is a disarium number'.format(num))\n",
    "else:\n",
    "    print('{} is not a disarium number'.format(num))"
   ]
  },
  {
   "cell_type": "code",
   "execution_count": 4,
   "metadata": {},
   "outputs": [
    {
     "name": "stdout",
     "output_type": "stream",
     "text": [
      "Disarium numbers between 1 to 100 : \n",
      "1\n",
      "2\n",
      "3\n",
      "4\n",
      "5\n",
      "6\n",
      "7\n",
      "8\n",
      "9\n",
      "89\n"
     ]
    }
   ],
   "source": [
    "#2. 2. Write a Python program to print all disarium numbers between 1 to 100?\n",
    "\n",
    "num = [str(i) for i in range(1,101)]\n",
    "\n",
    "print('Disarium numbers between 1 to 100 : ')\n",
    "\n",
    "for i in num:\n",
    "    disnum = []\n",
    "    for j in i:\n",
    "        disnum.extend(j) \n",
    "        \n",
    "    sum = 0 \n",
    "    \n",
    "    for a,b in zip(disnum,range(1,4)):\n",
    "        sum = sum + int(a)**b     \n",
    "    if str(sum) == i:\n",
    "        print(int(i))"
   ]
  },
  {
   "cell_type": "code",
   "execution_count": 5,
   "metadata": {},
   "outputs": [
    {
     "name": "stdout",
     "output_type": "stream",
     "text": [
      "Enter a number: 193\n",
      "193 is a happy number\n"
     ]
    }
   ],
   "source": [
    "# 3.Write a Python program to check if the given number is Happy Number?\n",
    "\n",
    "num = int(input('Enter a number: '))\n",
    "\n",
    "result = num\n",
    "\n",
    "def happynum(num):\n",
    "    sum = 0\n",
    "    while num > 0:\n",
    "        a = num % 10\n",
    "        sum += (a*a)\n",
    "        num = num // 10\n",
    "    return sum\n",
    "\n",
    "#Unhappy number ends in a cycle of repeating numbers which contains 4\n",
    "\n",
    "while(result != 1 and result!=4):\n",
    "    result = happynum(result)\n",
    "\n",
    "if result == 1:\n",
    "    print('{} is a happy number'.format(num))\n",
    "else:\n",
    "    print('{} is not a happy number'.format(num))"
   ]
  },
  {
   "cell_type": "code",
   "execution_count": 6,
   "metadata": {},
   "outputs": [
    {
     "name": "stdout",
     "output_type": "stream",
     "text": [
      "Happy numbers between 1 and 100 are :\n",
      "1 \n",
      "7 \n",
      "10 \n",
      "13 \n",
      "19 \n",
      "23 \n",
      "28 \n",
      "31 \n",
      "32 \n",
      "44 \n",
      "49 \n",
      "68 \n",
      "70 \n",
      "79 \n",
      "82 \n",
      "86 \n",
      "91 \n",
      "94 \n",
      "97 \n",
      "100 \n"
     ]
    }
   ],
   "source": [
    "#Write a Python program to print all happy numbers between 1 and 100?\n",
    "\n",
    "num = range(1,101)\n",
    "\n",
    "print('Happy numbers between 1 and 100 are :')\n",
    "\n",
    "for i in num:\n",
    "    result = i\n",
    "\n",
    "    def happynum(num):\n",
    "        sum = 0\n",
    "        while num > 0:\n",
    "            a = num % 10\n",
    "            sum += (a*a)\n",
    "            num = num // 10\n",
    "        return sum\n",
    "\n",
    "    while(result != 1 and result!=4):\n",
    "        result = happynum(result)\n",
    "\n",
    "    if result == 1:\n",
    "        print('{} '.format(i))"
   ]
  },
  {
   "cell_type": "code",
   "execution_count": 1,
   "metadata": {},
   "outputs": [
    {
     "name": "stdout",
     "output_type": "stream",
     "text": [
      "Enter a number: 48\n",
      "48 is a harshad number\n"
     ]
    }
   ],
   "source": [
    "# 5.Write a Python program to determine whether the given number is a Harshad Number?\n",
    "\n",
    "num1 = input('Enter a number: ')\n",
    "harshad = []\n",
    "for i in num1:\n",
    "    harshad.append(int(i))\n",
    "\n",
    "if int(num1) % sum(harshad) == 0:\n",
    "    print('{} is a harshad number'.format(num1))\n",
    "else:\n",
    "    print('{} is not a harshad number'.format(num1))"
   ]
  },
  {
   "cell_type": "code",
   "execution_count": 8,
   "metadata": {},
   "outputs": [
    {
     "name": "stdout",
     "output_type": "stream",
     "text": [
      "Pronic numbers between 1 and 100 : \n",
      "2\n",
      "6\n",
      "12\n",
      "20\n",
      "30\n",
      "42\n",
      "56\n",
      "72\n",
      "90\n"
     ]
    }
   ],
   "source": [
    "# 6.Write a Python program to print all pronic numbers between 1 and 100?\n",
    "\n",
    "print('Pronic numbers between 1 and 100 : ')\n",
    "for i in range (1,10):\n",
    "    pronic = i*(i+1)\n",
    "    if pronic < 100:\n",
    "        print(pronic)"
   ]
  },
  {
   "cell_type": "code",
   "execution_count": null,
   "metadata": {},
   "outputs": [],
   "source": []
  }
 ],
 "metadata": {
  "kernelspec": {
   "display_name": "Python 3",
   "language": "python",
   "name": "python3"
  },
  "language_info": {
   "codemirror_mode": {
    "name": "ipython",
    "version": 3
   },
   "file_extension": ".py",
   "mimetype": "text/x-python",
   "name": "python",
   "nbconvert_exporter": "python",
   "pygments_lexer": "ipython3",
   "version": "3.8.3"
  }
 },
 "nbformat": 4,
 "nbformat_minor": 4
}
