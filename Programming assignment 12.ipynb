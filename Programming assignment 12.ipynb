{
 "cells": [
  {
   "cell_type": "code",
   "execution_count": 1,
   "metadata": {},
   "outputs": [
    {
     "name": "stdout",
     "output_type": "stream",
     "text": [
      "Unique dictionary values are:-  [1, 2, 5, 6, 7, 8, 10, 11, 12]\n"
     ]
    }
   ],
   "source": [
    "# 1.Write a Python program to Extract Unique values dictionary values?\n",
    "\n",
    "dict1 = {'A' : [5,6,7,8,8,10],'B' : [10,11,7,5],'C' : [6,12,10,8],'D' : [1,2,5,7]}\n",
    "unique =[]\n",
    "\n",
    "for i in dict1.values():\n",
    "    unique.extend(i)\n",
    "    \n",
    "print('Unique dictionary values are:- ',list(set(unique)))"
   ]
  },
  {
   "cell_type": "code",
   "execution_count": 2,
   "metadata": {},
   "outputs": [
    {
     "name": "stdout",
     "output_type": "stream",
     "text": [
      "Sum of all items in the dictionary is 487\n"
     ]
    }
   ],
   "source": [
    "# 2.Write a Python program to find the sum of all items in a dictionary?\n",
    "\n",
    "dict2 = {12 : ['a','b','c'],54 : ['d','b','e'],112 : ['f','g','h'],309 : ['n','m','c']}\n",
    "\n",
    "items = [i[0] for i in dict2.items()]\n",
    "\n",
    "print('Sum of all items in the dictionary is {}'.format(sum(items))) "
   ]
  },
  {
   "cell_type": "code",
   "execution_count": 3,
   "metadata": {},
   "outputs": [
    {
     "data": {
      "text/plain": [
       "{'A': [5, 6, 7, 8, 8, 10],\n",
       " 'B': [10, 11, 7, 5],\n",
       " 12: ['a', 'b', 'c'],\n",
       " 54: ['d', 'b', 'e']}"
      ]
     },
     "execution_count": 3,
     "metadata": {},
     "output_type": "execute_result"
    }
   ],
   "source": [
    "# 3.Write a Python program to Merging two Dictionaries?\n",
    "\n",
    "dict3 = {'A' : [5,6,7,8,8,10],'B' : [10,11,7,5]}\n",
    "dict4 = {12 : ['a','b','c'],54 : ['d','b','e']}\n",
    "\n",
    "dict3.update(dict4)\n",
    "dict3"
   ]
  },
  {
   "cell_type": "code",
   "execution_count": 4,
   "metadata": {},
   "outputs": [
    {
     "data": {
      "text/plain": [
       "{1: 'Monday',\n",
       " 2: 'Tuesday',\n",
       " 3: 'Wednesday',\n",
       " 4: 'Thursday',\n",
       " 5: 'Friday',\n",
       " 6: 'Saturday',\n",
       " 7: 'Sunday'}"
      ]
     },
     "execution_count": 4,
     "metadata": {},
     "output_type": "execute_result"
    }
   ],
   "source": [
    "# 4.Write a Python program to convert key-values list to flat dictionary?\n",
    "\n",
    "dict5 = {'Day no' : [1,2,3,4,5,6,7] , 'Days' : ['Monday','Tuesday','Wednesday','Thursday','Friday','Saturday','Sunday']}\n",
    "dict6 = {}\n",
    "\n",
    "values = []\n",
    "\n",
    "for i in dict5.values():\n",
    "    values.append(i)\n",
    "    \n",
    "dict(zip(values[0],values[1]))"
   ]
  },
  {
   "cell_type": "code",
   "execution_count": 5,
   "metadata": {},
   "outputs": [
    {
     "name": "stdout",
     "output_type": "stream",
     "text": [
      "Result : - {4: 'D', 1: 'A', 2: 'B', 3: 'C'}\n"
     ]
    }
   ],
   "source": [
    "# 5.Write a Python program to insertion at the beginning in OrderedDict?\n",
    "    \n",
    "ogdict = {1 : 'A' ,2 : 'B', 3 : 'C'}  \n",
    "insert = {4 : 'D'}\n",
    "\n",
    "from collections import OrderedDict\n",
    "\n",
    "orderdict = dict(OrderedDict(list(insert.items()) + list(ogdict.items())))\n",
    "\n",
    "print('Result : -',orderdict)"
   ]
  },
  {
   "cell_type": "code",
   "execution_count": 6,
   "metadata": {},
   "outputs": [
    {
     "name": "stdout",
     "output_type": "stream",
     "text": [
      "String is in order\n"
     ]
    }
   ],
   "source": [
    "# 6.Write a Python program to check order of character in string using OrderedDict()?\n",
    "\n",
    "def order_of_character(input,pattern):\n",
    "    \n",
    "    a = OrderedDict.fromkeys(input1)\n",
    "    ptrlen = 0\n",
    "    \n",
    "    for key,values in a.items():\n",
    "        if (key == pattern[ptrlen]):\n",
    "            ptrlen = ptrlen + 1\n",
    "        \n",
    "        if (ptrlen == len(pattern)):\n",
    "            return 'String is in order'\n",
    "        \n",
    "    return 'String is not in order'\n",
    "            \n",
    "            \n",
    "input1 = 'character'\n",
    "pattern = 'crt'    \n",
    "\n",
    "print(order_of_character(input1,pattern))    "
   ]
  },
  {
   "cell_type": "code",
   "execution_count": 7,
   "metadata": {},
   "outputs": [
    {
     "name": "stdout",
     "output_type": "stream",
     "text": [
      " Key sorted dictionary : {1: 'o', 2: 'a', 3: 'c', 4: 'b', 5: 'f', 7: 'd'}\n",
      "\n",
      " Value sorted dictionary : {2: 'a', 4: 'b', 3: 'c', 7: 'd', 5: 'f', 1: 'o'}\n"
     ]
    }
   ],
   "source": [
    "# 7.Write a Python program to sort Python Dictionaries by Key or Value?\n",
    "\n",
    "srtdict = {2 : 'a' ,7 : 'd' , 4 : 'b' ,3 : 'c' ,5 : 'f',1 : 'o'}\n",
    "\n",
    "# sort keys\n",
    "print(' Key sorted dictionary :',dict(sorted(srtdict.items())))\n",
    "\n",
    "#sort values\n",
    "sorted_keys = sorted(srtdict,key = srtdict.get)\n",
    "value_sorted = {}\n",
    "\n",
    "for i in sorted_keys:\n",
    "    value_sorted[i] = srtdict[i]\n",
    "print('\\n Value sorted dictionary :',value_sorted)   \n"
   ]
  },
  {
   "cell_type": "code",
   "execution_count": null,
   "metadata": {},
   "outputs": [],
   "source": []
  }
 ],
 "metadata": {
  "kernelspec": {
   "display_name": "Python 3",
   "language": "python",
   "name": "python3"
  },
  "language_info": {
   "codemirror_mode": {
    "name": "ipython",
    "version": 3
   },
   "file_extension": ".py",
   "mimetype": "text/x-python",
   "name": "python",
   "nbconvert_exporter": "python",
   "pygments_lexer": "ipython3",
   "version": "3.8.3"
  }
 },
 "nbformat": 4,
 "nbformat_minor": 4
}
