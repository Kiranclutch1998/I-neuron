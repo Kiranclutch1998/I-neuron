{
 "cells": [
  {
   "cell_type": "code",
   "execution_count": 1,
   "metadata": {},
   "outputs": [
    {
     "name": "stdout",
     "output_type": "stream",
     "text": [
      "Enter value of k: 6\n",
      "Words which are greater than given length 6 : \n",
      "program\n",
      "greater\n"
     ]
    }
   ],
   "source": [
    "# 1.Write a Python program to find words which are greater than given length k?\n",
    "\n",
    "k = int(input('Enter value of k: '))\n",
    "\n",
    "list1 = ['Write', 'a','Python','program','to','find','words','which','are','greater','than','given','length','k']\n",
    "\n",
    "greater =[i for i in list1 if len(i) > k]\n",
    "\n",
    "print('Words which are greater than given length {} : '.format(k))\n",
    "\n",
    "for i in greater:\n",
    "    print(i)\n",
    "    \n",
    "    "
   ]
  },
  {
   "cell_type": "code",
   "execution_count": 2,
   "metadata": {},
   "outputs": [
    {
     "name": "stdout",
     "output_type": "stream",
     "text": [
      "Enter character number to be removed : 8\n"
     ]
    },
    {
     "data": {
      "text/plain": [
       "'Programing'"
      ]
     },
     "execution_count": 2,
     "metadata": {},
     "output_type": "execute_result"
    }
   ],
   "source": [
    "# 2.Write a Python program for removing i-th character from a string?\n",
    "\n",
    "str1 = 'Programming'\n",
    "char = int(input('Enter character number to be removed : '))\n",
    "\n",
    "a = str1[:char-1]\n",
    "b = str1[char:]\n",
    "\n",
    "str1 = a+b\n",
    "str1"
   ]
  },
  {
   "cell_type": "code",
   "execution_count": 3,
   "metadata": {},
   "outputs": [
    {
     "name": "stdout",
     "output_type": "stream",
     "text": [
      "String after splitting:-  ['this', 'is', 'a', 'string']\n",
      "\n",
      "String after joining:-  this is a string\n"
     ]
    }
   ],
   "source": [
    "# 3.Write a Python program to split and join a string?\n",
    "\n",
    "str2 = 'this is a string'\n",
    "split = str2.split(' ')\n",
    "print('String after splitting:- ',split)\n",
    "print('\\nString after joining:- ',\" \".join(split))"
   ]
  },
  {
   "cell_type": "code",
   "execution_count": 4,
   "metadata": {},
   "outputs": [
    {
     "name": "stdout",
     "output_type": "stream",
     "text": [
      "Enter a string :10292828282\n",
      "10292828282 is not a binary string\n"
     ]
    }
   ],
   "source": [
    "# 4.Write a Python to check if a given string is binary string or not?\n",
    "\n",
    "binary = input('Enter a string :')\n",
    "check  = {'0','1'}\n",
    "binary1 = set(binary)\n",
    "\n",
    "if binary1 == check or binary1 == {'0'} or binary1 == {'1'}:\n",
    "    print('{} is a binary string'.format(binary))\n",
    "else:\n",
    "    print('{} is not a binary string'.format(binary))\n",
    "\n"
   ]
  },
  {
   "cell_type": "code",
   "execution_count": 5,
   "metadata": {},
   "outputs": [
    {
     "name": "stdout",
     "output_type": "stream",
     "text": [
      "Uncommon words from two Strings are : -\n",
      "common\n",
      "which\n",
      "are\n",
      "greater\n",
      "in\n",
      "length\n"
     ]
    }
   ],
   "source": [
    "# 5.Write a Python program to find uncommon words from two Strings?\n",
    "\n",
    "str1 = 'Python program to find common words'\n",
    "str2 = 'Python program to find words which are greater in length'\n",
    "\n",
    "w1 = str1.split(' ')\n",
    "w2 = str2.split(' ')\n",
    "\n",
    "uncommon1 = [i for i in w1 if i not in w2]\n",
    "uncommon2 = [i for i in w2 if i not in w1]\n",
    "\n",
    "uncommon = uncommon1+uncommon2\n",
    "print('Uncommon words from two Strings are : -')\n",
    "for i in uncommon:\n",
    "    print (i)"
   ]
  },
  {
   "cell_type": "code",
   "execution_count": 6,
   "metadata": {},
   "outputs": [
    {
     "name": "stdout",
     "output_type": "stream",
     "text": [
      "Duplicate characters in string are :  {'a', 'c', 'r'}\n"
     ]
    }
   ],
   "source": [
    "# 6.Write a Python to find all duplicate characters in string?\n",
    "\n",
    "string = 'characters'\n",
    "dup=[i for i in string]\n",
    "char = []\n",
    "\n",
    "for i in dup:\n",
    "    if dup.count(i) > 1:\n",
    "        char.append(i)\n",
    "        \n",
    "set1 = set(char)\n",
    "print('Duplicate characters in string are : ',set1)"
   ]
  },
  {
   "cell_type": "code",
   "execution_count": 7,
   "metadata": {},
   "outputs": [
    {
     "name": "stdout",
     "output_type": "stream",
     "text": [
      "Enter a string : ^&*chgjgfjf@#!\n",
      "Special character present in string\n"
     ]
    }
   ],
   "source": [
    "# 7.Write a Python Program to check if a string contains any special character?\n",
    "\n",
    "string1 = input('Enter a string : ')\n",
    "special = '[{@_!#$%^&*()<>?/\\|~:}]'\n",
    "check = [i for i in string1 if i in special]\n",
    "\n",
    "if check == []:\n",
    "    print('No special character present in string')\n",
    "else:\n",
    "    print('Special character present in string')"
   ]
  }
 ],
 "metadata": {
  "kernelspec": {
   "display_name": "Python 3",
   "language": "python",
   "name": "python3"
  },
  "language_info": {
   "codemirror_mode": {
    "name": "ipython",
    "version": 3
   },
   "file_extension": ".py",
   "mimetype": "text/x-python",
   "name": "python",
   "nbconvert_exporter": "python",
   "pygments_lexer": "ipython3",
   "version": "3.8.3"
  }
 },
 "nbformat": 4,
 "nbformat_minor": 4
}
