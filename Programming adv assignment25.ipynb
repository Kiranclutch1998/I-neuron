{
 "cells": [
  {
   "cell_type": "code",
   "execution_count": 1,
   "metadata": {},
   "outputs": [],
   "source": [
    "# Question 1\n",
    "\n",
    "## Write four functions that directly mutate a list:\n",
    "\n",
    "# 1. repeat(lst, n): Repeat lst n times.\n",
    "\n",
    "def repeat(lst,n):\n",
    "    lst[:] = lst*n\n",
    "    return lst\n",
    "\n",
    "# 2. add(lst, x): Adds x to the end of the lst.\n",
    "\n",
    "def add(lst, x):\n",
    "    lst.append(x)\n",
    "    return lst\n",
    "\n",
    "# 3. remove(lst, m, n): Removes all elements between indices m and n. inclusive in lst.\n",
    "\n",
    "def remove(lst, m, n):\n",
    "    del lst[m:n+1]\n",
    "    return lst\n",
    "    \n",
    "# 4. concat(lst, x): concatenates lst with x (another list).\n",
    "\n",
    "def concat(lst, x):\n",
    "    lst = lst + x\n",
    "    return lst"
   ]
  },
  {
   "cell_type": "code",
   "execution_count": 2,
   "metadata": {},
   "outputs": [
    {
     "name": "stdout",
     "output_type": "stream",
     "text": [
      "[1, 2, 3, 4, 1, 2, 3, 4, 1, 2, 3, 4]\n",
      "[1, 2, 3, 4, 1, 2, 3, 4, 1, 2, 3, 4, 1]\n",
      "[1]\n",
      "[1, 3, 4]\n"
     ]
    }
   ],
   "source": [
    "lst = [1,2,3,4]\n",
    "print(repeat(lst,3))\n",
    "print(add(lst,1))\n",
    "print(remove(lst,1,12))\n",
    "print(concat(lst,[3,4]))"
   ]
  },
  {
   "cell_type": "code",
   "execution_count": 3,
   "metadata": {},
   "outputs": [],
   "source": [
    "# Question 2\n",
    "\n",
    "def guess_score(code,guess):\n",
    "    black = []\n",
    "    white = []\n",
    "    for i in range(len(guess)):\n",
    "        if code[i] == guess[i]:\n",
    "            black.append(1)\n",
    "            code.replace(code[i],'-')\n",
    "        elif code[i] in guess:\n",
    "            white.append(1)\n",
    "            code.replace(code[i],'-')\n",
    "    \n",
    "    return {'black' : sum(black) ,'white': sum(white)}"
   ]
  },
  {
   "cell_type": "code",
   "execution_count": 4,
   "metadata": {},
   "outputs": [
    {
     "data": {
      "text/plain": [
       "{'black': 0, 'white': 0}"
      ]
     },
     "execution_count": 4,
     "metadata": {},
     "output_type": "execute_result"
    }
   ],
   "source": [
    "guess_score('1423', '5678') "
   ]
  },
  {
   "cell_type": "code",
   "execution_count": 5,
   "metadata": {},
   "outputs": [
    {
     "data": {
      "text/plain": [
       "{'black': 1, 'white': 0}"
      ]
     },
     "execution_count": 5,
     "metadata": {},
     "output_type": "execute_result"
    }
   ],
   "source": [
    "guess_score('1423', '2222')"
   ]
  },
  {
   "cell_type": "code",
   "execution_count": 6,
   "metadata": {},
   "outputs": [
    {
     "data": {
      "text/plain": [
       "{'black': 1, 'white': 3}"
      ]
     },
     "execution_count": 6,
     "metadata": {},
     "output_type": "execute_result"
    }
   ],
   "source": [
    "guess_score('1423', '1234')"
   ]
  },
  {
   "cell_type": "code",
   "execution_count": 7,
   "metadata": {},
   "outputs": [
    {
     "data": {
      "text/plain": [
       "{'black': 0, 'white': 2}"
      ]
     },
     "execution_count": 7,
     "metadata": {},
     "output_type": "execute_result"
    }
   ],
   "source": [
    "guess_score('1423', '2211')"
   ]
  },
  {
   "cell_type": "code",
   "execution_count": 8,
   "metadata": {},
   "outputs": [],
   "source": [
    "# Question 3.\n",
    "\n",
    "def two_product(lst,n):\n",
    "    product = [lst[i] for i in range(len(lst)) for j in range(len(lst)) if lst[i]*lst[j] == n]\n",
    "    return product"
   ]
  },
  {
   "cell_type": "code",
   "execution_count": 9,
   "metadata": {},
   "outputs": [
    {
     "data": {
      "text/plain": [
       "[4, 5]"
      ]
     },
     "execution_count": 9,
     "metadata": {},
     "output_type": "execute_result"
    }
   ],
   "source": [
    "two_product([1, 2, -1, 4, 5], 20)"
   ]
  },
  {
   "cell_type": "code",
   "execution_count": 10,
   "metadata": {},
   "outputs": [
    {
     "data": {
      "text/plain": [
       "[2, 5]"
      ]
     },
     "execution_count": 10,
     "metadata": {},
     "output_type": "execute_result"
    }
   ],
   "source": [
    "two_product([1, 2, 3, 4, 5], 10)"
   ]
  },
  {
   "cell_type": "code",
   "execution_count": 11,
   "metadata": {},
   "outputs": [
    {
     "data": {
      "text/plain": [
       "[]"
      ]
     },
     "execution_count": 11,
     "metadata": {},
     "output_type": "execute_result"
    }
   ],
   "source": [
    "two_product([100, 12, 4, 1, 2], 15)"
   ]
  },
  {
   "cell_type": "code",
   "execution_count": 12,
   "metadata": {},
   "outputs": [],
   "source": [
    "# Question 4\n",
    "\n",
    "import datetime\n",
    "\n",
    "def sort_dates(dates,mode):\n",
    "    if mode == 'ASC':\n",
    "        return sorted (dates,key=lambda dates: datetime.datetime.strptime(dates, '%d-%m-%Y_%H:%M'))\n",
    "    else:\n",
    "        return sorted (dates,key=lambda dates: datetime.datetime.strptime(dates, '%d-%m-%Y_%H:%M'),reverse=True)"
   ]
  },
  {
   "cell_type": "code",
   "execution_count": 13,
   "metadata": {},
   "outputs": [
    {
     "data": {
      "text/plain": [
       "['10-02-2016_12:30', '10-02-2018_12:15', '10-02-2018_12:30']"
      ]
     },
     "execution_count": 13,
     "metadata": {},
     "output_type": "execute_result"
    }
   ],
   "source": [
    "sort_dates(['10-02-2018_12:30', '10-02-2016_12:30', '10-02-2018_12:15'],'ASC')"
   ]
  },
  {
   "cell_type": "code",
   "execution_count": 14,
   "metadata": {},
   "outputs": [
    {
     "data": {
      "text/plain": [
       "['10-02-2018_12:30', '10-02-2018_12:15', '10-02-2016_12:30']"
      ]
     },
     "execution_count": 14,
     "metadata": {},
     "output_type": "execute_result"
    }
   ],
   "source": [
    "sort_dates(['10-02-2018_12:30', '10-02-2016_12:30', '10-02-2018_12:15'],'DSC')"
   ]
  },
  {
   "cell_type": "code",
   "execution_count": 15,
   "metadata": {},
   "outputs": [
    {
     "data": {
      "text/plain": [
       "['01-01-1999_00:55', '09-02-2000_10:03', '10-02-2000_18:29']"
      ]
     },
     "execution_count": 15,
     "metadata": {},
     "output_type": "execute_result"
    }
   ],
   "source": [
    "sort_dates(['09-02-2000_10:03', '10-02-2000_18:29', '01-01-1999_00:55'],'ASC')"
   ]
  },
  {
   "cell_type": "code",
   "execution_count": 16,
   "metadata": {},
   "outputs": [],
   "source": [
    "# Question 5.\n",
    "\n",
    "def same_vowel_group(list1):\n",
    "    \n",
    "    result = []\n",
    "    for i in list1:\n",
    "        temp = []\n",
    "        for j in i:\n",
    "            if j in 'aeiou':\n",
    "                temp.append(j)\n",
    "        result.append(set(temp))\n",
    "    \n",
    "    output = []\n",
    "    for i in range(len(result)):\n",
    "        for j in range(1,len(result)):\n",
    "            if list1[i] == list1[j] :\n",
    "                break\n",
    "            if list1[i] in output :\n",
    "                break\n",
    "            if result[i] == result[j]:\n",
    "                output.append(list1[i])\n",
    "                output.append(list1[j])\n",
    "\n",
    "    if output == []:\n",
    "        return [list1[0]]\n",
    "    else:\n",
    "        return list(set(output))"
   ]
  },
  {
   "cell_type": "code",
   "execution_count": 17,
   "metadata": {},
   "outputs": [
    {
     "data": {
      "text/plain": [
       "['toe', 'ocelot']"
      ]
     },
     "execution_count": 17,
     "metadata": {},
     "output_type": "execute_result"
    }
   ],
   "source": [
    "same_vowel_group(['toe', 'ocelot', 'maniac'])"
   ]
  },
  {
   "cell_type": "code",
   "execution_count": 18,
   "metadata": {},
   "outputs": [
    {
     "data": {
      "text/plain": [
       "['many']"
      ]
     },
     "execution_count": 18,
     "metadata": {},
     "output_type": "execute_result"
    }
   ],
   "source": [
    "same_vowel_group(['many', 'carriage', 'emit', 'apricot', 'animal'])"
   ]
  },
  {
   "cell_type": "code",
   "execution_count": 19,
   "metadata": {},
   "outputs": [
    {
     "data": {
      "text/plain": [
       "['hoops', 'bottom', 'bot']"
      ]
     },
     "execution_count": 19,
     "metadata": {},
     "output_type": "execute_result"
    }
   ],
   "source": [
    "same_vowel_group(['hoops', 'chuff', 'bot', 'bottom'])"
   ]
  },
  {
   "cell_type": "code",
   "execution_count": 20,
   "metadata": {},
   "outputs": [],
   "source": [
    "# Question 6.\n",
    "\n",
    "import math \n",
    "\n",
    "def lcm_of_list(list1):\n",
    "    lcm = list1[0]\n",
    "    for i in range(1,len(list1)):\n",
    "        lcm = lcm*list1[i]//math.gcd(lcm, list1[i])\n",
    "    return lcm  "
   ]
  },
  {
   "cell_type": "code",
   "execution_count": 21,
   "metadata": {},
   "outputs": [
    {
     "data": {
      "text/plain": [
       "2520"
      ]
     },
     "execution_count": 21,
     "metadata": {},
     "output_type": "execute_result"
    }
   ],
   "source": [
    "lcm_of_list([1, 2, 3, 4, 5, 6, 7, 8, 9, 10])"
   ]
  },
  {
   "cell_type": "code",
   "execution_count": 22,
   "metadata": {},
   "outputs": [
    {
     "data": {
      "text/plain": [
       "27965340"
      ]
     },
     "execution_count": 22,
     "metadata": {},
     "output_type": "execute_result"
    }
   ],
   "source": [
    "lcm_of_list([13, 6, 17, 18, 19, 20, 37])"
   ]
  },
  {
   "cell_type": "code",
   "execution_count": 23,
   "metadata": {},
   "outputs": [
    {
     "data": {
      "text/plain": [
       "2333760"
      ]
     },
     "execution_count": 23,
     "metadata": {},
     "output_type": "execute_result"
    }
   ],
   "source": [
    "lcm_of_list([44, 64, 12, 17, 65])"
   ]
  },
  {
   "cell_type": "code",
   "execution_count": null,
   "metadata": {},
   "outputs": [],
   "source": []
  }
 ],
 "metadata": {
  "kernelspec": {
   "display_name": "Python 3",
   "language": "python",
   "name": "python3"
  },
  "language_info": {
   "codemirror_mode": {
    "name": "ipython",
    "version": 3
   },
   "file_extension": ".py",
   "mimetype": "text/x-python",
   "name": "python",
   "nbconvert_exporter": "python",
   "pygments_lexer": "ipython3",
   "version": "3.8.3"
  }
 },
 "nbformat": 4,
 "nbformat_minor": 4
}
