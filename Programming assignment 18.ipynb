{
 "cells": [
  {
   "cell_type": "code",
   "execution_count": 1,
   "metadata": {},
   "outputs": [
    {
     "data": {
      "text/plain": [
       "[1, 2, 123]"
      ]
     },
     "execution_count": 1,
     "metadata": {},
     "output_type": "execute_result"
    }
   ],
   "source": [
    "# Question 1\n",
    "# Create a function that takes a list of non-negative integers and strings and return a new list without the strings.\n",
    "\n",
    "def filter_list(list1):\n",
    "    \n",
    "    filt_list = [i for i in list1 if type(i) == int]\n",
    "    \n",
    "    for i in filt_list:\n",
    "        if i < 0:\n",
    "            return 'Enter positive integers only'\n",
    "    else:\n",
    "        return filt_list\n",
    "    \n",
    "filter_list([1,2, \"aasf\", \"1\", \"123\", 123])"
   ]
  },
  {
   "cell_type": "code",
   "execution_count": 2,
   "metadata": {},
   "outputs": [
    {
     "data": {
      "text/plain": [
       "'DLROW OLLEH'"
      ]
     },
     "execution_count": 2,
     "metadata": {},
     "output_type": "execute_result"
    }
   ],
   "source": [
    "# Question 2\n",
    "# The \"Reverser\" takes a string as input and returns that string in reverse order, with the opposite case\n",
    "\n",
    "def reverser(str1):\n",
    "    rev = str1.upper()\n",
    "    rev = list(rev)\n",
    "    rev.reverse()\n",
    "    \n",
    "    return ''.join(rev)\n",
    "\n",
    "reverser('Hello World')"
   ]
  },
  {
   "cell_type": "code",
   "execution_count": 3,
   "metadata": {},
   "outputs": [
    {
     "name": "stdout",
     "output_type": "stream",
     "text": [
      "outputs --> 1\n",
      "outputs --> [2, 3, 4, 5]\n",
      "outputs --> 6\n"
     ]
    }
   ],
   "source": [
    "# Question 3\n",
    "\n",
    "list1 = [1, 2, 3, 4, 5, 6]\n",
    "first,*middle,last = list1\n",
    "print('outputs -->',first)\n",
    "print('outputs -->',middle)\n",
    "print('outputs -->',last)"
   ]
  },
  {
   "cell_type": "code",
   "execution_count": 4,
   "metadata": {},
   "outputs": [
    {
     "data": {
      "text/plain": [
       "120"
      ]
     },
     "execution_count": 4,
     "metadata": {},
     "output_type": "execute_result"
    }
   ],
   "source": [
    "# Question 4\n",
    "# Write a function that calculates the factorial of a number recursively.\n",
    "\n",
    "def factorial(num):\n",
    "    if num == 0 or num == 1:\n",
    "        return 1\n",
    "    else:\n",
    "        return num*factorial(num-1)\n",
    "    \n",
    "factorial(5)"
   ]
  },
  {
   "cell_type": "code",
   "execution_count": 5,
   "metadata": {},
   "outputs": [
    {
     "data": {
      "text/plain": [
       "['b', 'a', 'a', 'a']"
      ]
     },
     "execution_count": 5,
     "metadata": {},
     "output_type": "execute_result"
    }
   ],
   "source": [
    "# Question 5\n",
    "# Write a function that moves all elements of one type to the end of the list.\n",
    "\n",
    "def move_to_end(list1,ele):\n",
    "    temp = []\n",
    "    end = []\n",
    "    for i in list1 :\n",
    "        if i == ele:\n",
    "            end.append(i)\n",
    "        else:\n",
    "            temp.append(i)\n",
    "    return temp+end\n",
    "\n",
    "move_to_end(['a','a','a','b'],'a')"
   ]
  },
  {
   "cell_type": "code",
   "execution_count": null,
   "metadata": {},
   "outputs": [],
   "source": []
  }
 ],
 "metadata": {
  "kernelspec": {
   "display_name": "Python 3",
   "language": "python",
   "name": "python3"
  },
  "language_info": {
   "codemirror_mode": {
    "name": "ipython",
    "version": 3
   },
   "file_extension": ".py",
   "mimetype": "text/x-python",
   "name": "python",
   "nbconvert_exporter": "python",
   "pygments_lexer": "ipython3",
   "version": "3.8.3"
  }
 },
 "nbformat": 4,
 "nbformat_minor": 4
}
