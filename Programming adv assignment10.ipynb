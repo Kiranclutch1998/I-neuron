{
 "cells": [
  {
   "cell_type": "code",
   "execution_count": 1,
   "metadata": {},
   "outputs": [],
   "source": [
    "# 1. Create a function that takes the width, height and character and returns a picture frame as a 2D list.\n",
    "\n",
    "def get_frame(width,height,string):\n",
    "    if width <= 2:\n",
    "        return 'invalid'\n",
    "    if height <= 2:\n",
    "        return 'invalid'\n",
    "    \n",
    "    fin_str = ''\n",
    "    for i in range(width):\n",
    "        fin_str += string\n",
    "    \n",
    "    result = []\n",
    "    for i in range(height):\n",
    "        result.append([])\n",
    "    result[0].append(fin_str)\n",
    "    result[-1].append(fin_str)\n",
    "    \n",
    "    mid_str = [string]\n",
    "    for i in range(width//2):\n",
    "        mid_str.append(' ')\n",
    "    mid_str.append(string)\n",
    "    mid_str = ''.join(mid_str)\n",
    "    \n",
    "    for i in range(1,height-1):\n",
    "        result[i].append(mid_str)\n",
    "    \n",
    "    return result"
   ]
  },
  {
   "cell_type": "code",
   "execution_count": 2,
   "metadata": {},
   "outputs": [
    {
     "data": {
      "text/plain": [
       "[['####'], ['#  #'], ['#  #'], ['#  #'], ['####']]"
      ]
     },
     "execution_count": 2,
     "metadata": {},
     "output_type": "execute_result"
    }
   ],
   "source": [
    "get_frame(4, 5, \"#\") "
   ]
  },
  {
   "cell_type": "code",
   "execution_count": 3,
   "metadata": {},
   "outputs": [
    {
     "data": {
      "text/plain": [
       "[['**********'], ['*     *'], ['**********']]"
      ]
     },
     "execution_count": 3,
     "metadata": {},
     "output_type": "execute_result"
    }
   ],
   "source": [
    "get_frame(10, 3, \"*\") "
   ]
  },
  {
   "cell_type": "code",
   "execution_count": 4,
   "metadata": {},
   "outputs": [
    {
     "data": {
      "text/plain": [
       "'invalid'"
      ]
     },
     "execution_count": 4,
     "metadata": {},
     "output_type": "execute_result"
    }
   ],
   "source": [
    "get_frame(2, 5, \"0\") "
   ]
  },
  {
   "cell_type": "code",
   "execution_count": 5,
   "metadata": {},
   "outputs": [],
   "source": [
    "# 2.Write three functions: boolean_and , boolean_or, boolean_xor.\n",
    "\n",
    "def boolean_and(list1):\n",
    "    temp = [i for i in list1]\n",
    "    for i in range(len(list1)-1):\n",
    "        a = temp[0] and temp[1]\n",
    "        temp.remove(temp[0])\n",
    "        temp.remove(temp[0])\n",
    "        temp.insert(0,a)\n",
    "    return temp[0]\n",
    "\n",
    "def boolean_or(list1):\n",
    "    temp = [i for i in list1]\n",
    "    for i in range(len(list1)-1):\n",
    "        a = temp[0] or temp[1]\n",
    "        temp.remove(temp[0])\n",
    "        temp.remove(temp[0])\n",
    "        temp.insert(0,a)\n",
    "    return temp[0]\n",
    "\n",
    "def boolean_xor(list1):\n",
    "    temp = [i for i in list1]\n",
    "    for i in range(len(list1)-1):\n",
    "        a = temp[0] ^ temp[1]\n",
    "        temp.remove(temp[0])\n",
    "        temp.remove(temp[0])\n",
    "        temp.insert(0,a)\n",
    "    return temp[0]"
   ]
  },
  {
   "cell_type": "code",
   "execution_count": 6,
   "metadata": {},
   "outputs": [
    {
     "data": {
      "text/plain": [
       "False"
      ]
     },
     "execution_count": 6,
     "metadata": {},
     "output_type": "execute_result"
    }
   ],
   "source": [
    "boolean_and([True, True, False, True])"
   ]
  },
  {
   "cell_type": "code",
   "execution_count": 7,
   "metadata": {},
   "outputs": [
    {
     "data": {
      "text/plain": [
       "True"
      ]
     },
     "execution_count": 7,
     "metadata": {},
     "output_type": "execute_result"
    }
   ],
   "source": [
    "boolean_or([True, True, False, False])"
   ]
  },
  {
   "cell_type": "code",
   "execution_count": 8,
   "metadata": {},
   "outputs": [
    {
     "data": {
      "text/plain": [
       "False"
      ]
     },
     "execution_count": 8,
     "metadata": {},
     "output_type": "execute_result"
    }
   ],
   "source": [
    "boolean_xor([True, True, False, False])"
   ]
  },
  {
   "cell_type": "code",
   "execution_count": 9,
   "metadata": {},
   "outputs": [],
   "source": [
    "# 3. Create a function that creates a box based on dimension n.\n",
    "\n",
    "def make_box(n):\n",
    "    fin_str = ''\n",
    "    for i in range(n):\n",
    "        fin_str += '#'\n",
    "    \n",
    "    result = []\n",
    "    for i in range(n):\n",
    "        result.append(fin_str)\n",
    "        \n",
    "    mid_str = ['#']\n",
    "    for i in range(n//2):\n",
    "        mid_str.append(' ')\n",
    "    mid_str.append('#')\n",
    "    mid_str = ''.join(mid_str)\n",
    "    \n",
    "    for i in range(1,n-1):\n",
    "        result[i] = mid_str\n",
    "    return result"
   ]
  },
  {
   "cell_type": "code",
   "execution_count": 10,
   "metadata": {},
   "outputs": [
    {
     "data": {
      "text/plain": [
       "['#####', '#  #', '#  #', '#  #', '#####']"
      ]
     },
     "execution_count": 10,
     "metadata": {},
     "output_type": "execute_result"
    }
   ],
   "source": [
    "make_box(5) "
   ]
  },
  {
   "cell_type": "code",
   "execution_count": 11,
   "metadata": {},
   "outputs": [
    {
     "data": {
      "text/plain": [
       "['###', '# #', '###']"
      ]
     },
     "execution_count": 11,
     "metadata": {},
     "output_type": "execute_result"
    }
   ],
   "source": [
    "make_box(3) "
   ]
  },
  {
   "cell_type": "code",
   "execution_count": 12,
   "metadata": {},
   "outputs": [
    {
     "data": {
      "text/plain": [
       "['##', '##']"
      ]
     },
     "execution_count": 12,
     "metadata": {},
     "output_type": "execute_result"
    }
   ],
   "source": [
    "make_box(2) "
   ]
  },
  {
   "cell_type": "code",
   "execution_count": 13,
   "metadata": {},
   "outputs": [
    {
     "data": {
      "text/plain": [
       "['#']"
      ]
     },
     "execution_count": 13,
     "metadata": {},
     "output_type": "execute_result"
    }
   ],
   "source": [
    "make_box(1) "
   ]
  },
  {
   "cell_type": "code",
   "execution_count": 14,
   "metadata": {},
   "outputs": [],
   "source": [
    "# 4. Given a common phrase, return False if any individual word in the phrase contains duplicate letters. Return True otherwise.\n",
    "\n",
    "def no_duplicate_letters(string):\n",
    "    string = string.lower()\n",
    "    string = string.split(' ')\n",
    "    for i in string:\n",
    "        for j in i:\n",
    "            if i.count(j) > 1:\n",
    "                return False\n",
    "    else:\n",
    "        return True\n",
    "    "
   ]
  },
  {
   "cell_type": "code",
   "execution_count": 15,
   "metadata": {},
   "outputs": [
    {
     "data": {
      "text/plain": [
       "False"
      ]
     },
     "execution_count": 15,
     "metadata": {},
     "output_type": "execute_result"
    }
   ],
   "source": [
    "no_duplicate_letters(\"Look before you leap.\") "
   ]
  },
  {
   "cell_type": "code",
   "execution_count": 16,
   "metadata": {},
   "outputs": [
    {
     "data": {
      "text/plain": [
       "True"
      ]
     },
     "execution_count": 16,
     "metadata": {},
     "output_type": "execute_result"
    }
   ],
   "source": [
    "no_duplicate_letters(\"You can lead a horse to water, but you can't make him drink.\") "
   ]
  },
  {
   "cell_type": "code",
   "execution_count": 17,
   "metadata": {},
   "outputs": [
    {
     "data": {
      "text/plain": [
       "True"
      ]
     },
     "execution_count": 17,
     "metadata": {},
     "output_type": "execute_result"
    }
   ],
   "source": [
    "no_duplicate_letters(\"Fortune favours the bold.\") "
   ]
  },
  {
   "cell_type": "code",
   "execution_count": 18,
   "metadata": {},
   "outputs": [
    {
     "data": {
      "text/plain": [
       "False"
      ]
     },
     "execution_count": 18,
     "metadata": {},
     "output_type": "execute_result"
    }
   ],
   "source": [
    "no_duplicate_letters(\"An apple a day keeps the doctor away.\")"
   ]
  },
  {
   "cell_type": "code",
   "execution_count": 19,
   "metadata": {},
   "outputs": [
    {
     "data": {
      "text/plain": [
       "['California', 'Florida']"
      ]
     },
     "execution_count": 19,
     "metadata": {},
     "output_type": "execute_result"
    }
   ],
   "source": [
    "# 5. Write a regular expression that will match the states that voted yes to President Trump's impeachment.\n",
    "# You must use RegEx positive lookahead\n",
    "\n",
    "import re\n",
    "txt = \"Texas = no, California = yes, Florida = yes, Michigan = no\"\n",
    "\n",
    "pattern = re.compile(\"\\w+(?= = yes)\")\n",
    "\n",
    "re.findall(pattern, txt)"
   ]
  },
  {
   "cell_type": "code",
   "execution_count": null,
   "metadata": {},
   "outputs": [],
   "source": []
  }
 ],
 "metadata": {
  "kernelspec": {
   "display_name": "Python 3",
   "language": "python",
   "name": "python3"
  },
  "language_info": {
   "codemirror_mode": {
    "name": "ipython",
    "version": 3
   },
   "file_extension": ".py",
   "mimetype": "text/x-python",
   "name": "python",
   "nbconvert_exporter": "python",
   "pygments_lexer": "ipython3",
   "version": "3.8.3"
  }
 },
 "nbformat": 4,
 "nbformat_minor": 4
}
