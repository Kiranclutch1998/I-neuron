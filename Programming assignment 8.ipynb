{
 "cells": [
  {
   "cell_type": "code",
   "execution_count": 1,
   "metadata": {},
   "outputs": [
    {
     "name": "stdout",
     "output_type": "stream",
     "text": [
      "X+Y =\n",
      "[2, 4, 6]\n",
      "[8, 10, 12]\n",
      "[14, 16, 18]\n"
     ]
    }
   ],
   "source": [
    "# 1.Write a Python Program to Add Two Matrices?\n",
    "\n",
    "X = [[1,2,3]\n",
    "    ,[4,5,6]\n",
    "    ,[7,8,9]]\n",
    "\n",
    "Y = [[1,2,3]\n",
    "    ,[4,5,6]\n",
    "    ,[7,8,9]]\n",
    "\n",
    "sum = [[0,0,0]\n",
    "      ,[0,0,0]\n",
    "      ,[0,0,0]]\n",
    "\n",
    "for i in range(len(X)):\n",
    "    for j in range(len(X[i])):\n",
    "        sum[i][j] = X[i][j] + Y[i][j] \n",
    "\n",
    "print('X+Y =')\n",
    "for i in sum:\n",
    "    print(i)    "
   ]
  },
  {
   "cell_type": "code",
   "execution_count": 2,
   "metadata": {},
   "outputs": [
    {
     "name": "stdout",
     "output_type": "stream",
     "text": [
      "X*Y =\n",
      "[30, 36, 42, 14]\n",
      "[66, 81, 96, 32]\n",
      "[102, 126, 150, 50]\n"
     ]
    }
   ],
   "source": [
    "# 2.Write a Python Program to Multiply Two Matrices?\n",
    "\n",
    "X = [[1,2,3]\n",
    "    ,[4,5,6]\n",
    "    ,[7,8,9]]\n",
    "\n",
    "Y = [[1,2,3,1]\n",
    "    ,[4,5,6,2]\n",
    "    ,[7,8,9,3]]\n",
    "\n",
    "result = [[0,0,0,0]\n",
    "      ,[0,0,0,0]\n",
    "      ,[0,0,0,0]]\n",
    "\n",
    "for i in range(len(X)):\n",
    "    for j in range(len(Y[0])):\n",
    "        for k in range(len(Y)):\n",
    "            result[i][j] += X[i][k] * Y[k][j]\n",
    "print('X*Y =')            \n",
    "for i in result:\n",
    "    print(i)            "
   ]
  },
  {
   "cell_type": "code",
   "execution_count": 3,
   "metadata": {},
   "outputs": [
    {
     "name": "stdout",
     "output_type": "stream",
     "text": [
      "Transpose of X:\n",
      "[1, 4, 7]\n",
      "[2, 5, 8]\n"
     ]
    }
   ],
   "source": [
    "# 3. Write a Python Program to Transpose a Matrix?\n",
    "\n",
    "X = [[1,2]\n",
    "    ,[4,5]\n",
    "    ,[7,8]]\n",
    "\n",
    "XT = [[0,0,0]\n",
    "      ,[0,0,0]]\n",
    "\n",
    "for i in range(len(X)):\n",
    "    for j in range(len(X[0])):\n",
    "        XT[j][i] = X[i][j]\n",
    "\n",
    "print('Transpose of X:')            \n",
    "for i in XT:\n",
    "    print(i)"
   ]
  },
  {
   "cell_type": "code",
   "execution_count": 4,
   "metadata": {},
   "outputs": [
    {
     "name": "stdout",
     "output_type": "stream",
     "text": [
      "Enter a string: Write a Python Program to Sort Words in Alphabetic Order\n",
      "Words after sorting are :  ['a', 'alphabetic', 'in', 'order', 'program', 'python', 'sort', 'to', 'words', 'write']\n"
     ]
    }
   ],
   "source": [
    "# 4.Write a Python Program to Sort Words in Alphabetic Order?\n",
    "\n",
    "str1  = (input('Enter a string: ')).lower()\n",
    "\n",
    "order =str1.split(' ')\n",
    "order.sort() \n",
    "\n",
    "print('Words after sorting are : ',order)"
   ]
  },
  {
   "cell_type": "code",
   "execution_count": 5,
   "metadata": {},
   "outputs": [
    {
     "name": "stdout",
     "output_type": "stream",
     "text": [
      "Enter a string: \"Write a!!! Python Program to R.emove :Punctuation ,From a String?\n"
     ]
    },
    {
     "data": {
      "text/plain": [
       "'Write a Python Program to Remove Punctuation From a String'"
      ]
     },
     "execution_count": 5,
     "metadata": {},
     "output_type": "execute_result"
    }
   ],
   "source": [
    "# 5.Write a Python Program to Remove Punctuation From a String?\n",
    "\n",
    "str1  = input('Enter a string: ')\n",
    "punct ='~`!@#$%^&*-/*[]{}\\|;\":,./<>?'\n",
    "str2 = ''\n",
    "\n",
    "for i in str1:\n",
    "    if i not in punct:\n",
    "        str2 += i\n",
    "\n",
    "str2"
   ]
  },
  {
   "cell_type": "code",
   "execution_count": null,
   "metadata": {},
   "outputs": [],
   "source": []
  }
 ],
 "metadata": {
  "kernelspec": {
   "display_name": "Python 3",
   "language": "python",
   "name": "python3"
  },
  "language_info": {
   "codemirror_mode": {
    "name": "ipython",
    "version": 3
   },
   "file_extension": ".py",
   "mimetype": "text/x-python",
   "name": "python",
   "nbconvert_exporter": "python",
   "pygments_lexer": "ipython3",
   "version": "3.8.3"
  }
 },
 "nbformat": 4,
 "nbformat_minor": 4
}
