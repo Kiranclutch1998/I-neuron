{
 "cells": [
  {
   "cell_type": "code",
   "execution_count": 1,
   "metadata": {},
   "outputs": [
    {
     "data": {
      "text/plain": [
       "18"
      ]
     },
     "execution_count": 1,
     "metadata": {},
     "output_type": "execute_result"
    }
   ],
   "source": [
    "# Question1. \n",
    "# Create a function that takes three arguments a, b, c and returns the sum of the numbers that are evenly divided by c from the range a, b inclusive.\n",
    "\n",
    "def evenly_divisible(a,b,c):\n",
    "    div = []\n",
    "    for i in range(a,b+1):\n",
    "        if i % c == 0:\n",
    "            div.append(i)\n",
    "    if sum(div) == 0:\n",
    "        return 'No number between {} and {} can be evenly divided by {}'.format(a,b,c)\n",
    "    else:\n",
    "        return sum(div)\n",
    "\n",
    "evenly_divisible(1,10,3)"
   ]
  },
  {
   "cell_type": "code",
   "execution_count": 2,
   "metadata": {},
   "outputs": [
    {
     "data": {
      "text/plain": [
       "True"
      ]
     },
     "execution_count": 2,
     "metadata": {},
     "output_type": "execute_result"
    }
   ],
   "source": [
    "# Question2.\n",
    "# Create a function that returns True if a given inequality expression is correct and False otherwise.\n",
    "\n",
    "def correct_signs(expression):\n",
    "    \n",
    "    exp  = expression.split(' ')\n",
    "    num  = [i for i in exp if i.isdigit() == True]\n",
    "    op   = [i for i in exp if i not in num]\n",
    "    num1 = [int(i) for i in num]\n",
    "    \n",
    "    TF = []\n",
    "\n",
    "    for i in range(len(op)):\n",
    "        if op[i] == '<':\n",
    "            TF.append(num1[i] < num1[i+1])\n",
    "        else:\n",
    "            TF.append(num1[i] > num1[i+1])\n",
    "    \n",
    "    if sum(TF) == len(op):\n",
    "        return True\n",
    "    else:\n",
    "        return False\n",
    "\n",
    "correct_signs(\"1 < 2 < 6 < 9 > 3\") "
   ]
  },
  {
   "cell_type": "code",
   "execution_count": 3,
   "metadata": {},
   "outputs": [
    {
     "data": {
      "text/plain": [
       "'th# ##rdv#rk'"
      ]
     },
     "execution_count": 3,
     "metadata": {},
     "output_type": "execute_result"
    }
   ],
   "source": [
    "# Question 3.\n",
    "# Create a function that replaces all the vowels in a string with a specified character.\n",
    "\n",
    "def replace_vowels(string,char):\n",
    "    vowels = ['a','e','i','o','u']\n",
    "    for i in string:\n",
    "        if i in vowels:\n",
    "            string = string.replace(i,char)\n",
    "    return string\n",
    "\n",
    "replace_vowels(\"the aardvark\", \"#\")"
   ]
  },
  {
   "cell_type": "code",
   "execution_count": 4,
   "metadata": {},
   "outputs": [
    {
     "data": {
      "text/plain": [
       "120"
      ]
     },
     "execution_count": 4,
     "metadata": {},
     "output_type": "execute_result"
    }
   ],
   "source": [
    "# Question4. \n",
    "# Write a function that calculates the factorial of a number recursively.\n",
    "\n",
    "def factorial(num):\n",
    "    if num == 0 or num == 1:\n",
    "        return 1\n",
    "    else:\n",
    "        return num*factorial(num - 1)\n",
    "    \n",
    "factorial(5)"
   ]
  },
  {
   "cell_type": "code",
   "execution_count": 5,
   "metadata": {},
   "outputs": [
    {
     "data": {
      "text/plain": [
       "5"
      ]
     },
     "execution_count": 5,
     "metadata": {},
     "output_type": "execute_result"
    }
   ],
   "source": [
    "# Question 5\n",
    "# Hamming distance is the number of characters that differ between two strings.\n",
    "\n",
    "def hamming_distance(str1,str2):\n",
    "    ham_dist = []\n",
    "    for i in range(len(str1)):\n",
    "        if str1[i] != str2[i]:\n",
    "            ham_dist.append(1)\n",
    "    return sum(ham_dist)\n",
    "\n",
    "hamming_distance(\"abcde\", \"bcdef\") "
   ]
  },
  {
   "cell_type": "code",
   "execution_count": null,
   "metadata": {},
   "outputs": [],
   "source": []
  }
 ],
 "metadata": {
  "kernelspec": {
   "display_name": "Python 3",
   "language": "python",
   "name": "python3"
  },
  "language_info": {
   "codemirror_mode": {
    "name": "ipython",
    "version": 3
   },
   "file_extension": ".py",
   "mimetype": "text/x-python",
   "name": "python",
   "nbconvert_exporter": "python",
   "pygments_lexer": "ipython3",
   "version": "3.8.3"
  }
 },
 "nbformat": 4,
 "nbformat_minor": 4
}
