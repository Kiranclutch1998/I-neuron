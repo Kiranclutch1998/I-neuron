{
 "cells": [
  {
   "cell_type": "code",
   "execution_count": 1,
   "metadata": {},
   "outputs": [
    {
     "name": "stdout",
     "output_type": "stream",
     "text": [
      "Enter no of elements in array4\n",
      "Enter element number 1: 3\n",
      "Enter element number 2: 4\n",
      "Enter element number 3: 2\n",
      "Enter element number 4: 5\n",
      "\n",
      "Sum of array is 14\n"
     ]
    }
   ],
   "source": [
    "# 1.Write a Python Program to find sum of array?\n",
    "\n",
    "size = int(input('Enter no of elements in array'))\n",
    "l = []\n",
    "for i in range(size):\n",
    "    number = int(input('Enter element number {}: '.format(i+1)))\n",
    "    l.append(number)\n",
    "print('\\nSum of array is {}'.format(sum(l))) "
   ]
  },
  {
   "cell_type": "code",
   "execution_count": 2,
   "metadata": {},
   "outputs": [
    {
     "name": "stdout",
     "output_type": "stream",
     "text": [
      "Enter no of elements in array6\n",
      "Enter element number 1: 23\n",
      "Enter element number 2: 34\n",
      "Enter element number 3: 56\n",
      "Enter element number 4: 10\n",
      "Enter element number 5: 13\n",
      "Enter element number 6: 98\n",
      "\n",
      "Largest element in the array is 98\n"
     ]
    }
   ],
   "source": [
    "# 2.Write a Python Program to find largest element in an array?\n",
    "\n",
    "size = int(input('Enter no of elements in array'))\n",
    "l = []\n",
    "for i in range(size):\n",
    "    number = int(input('Enter element number {}: '.format(i+1)))\n",
    "    l.append(number)\n",
    "print('\\nLargest element in the array is {}'.format(max(l))) "
   ]
  },
  {
   "cell_type": "code",
   "execution_count": 3,
   "metadata": {},
   "outputs": [
    {
     "name": "stdout",
     "output_type": "stream",
     "text": [
      "Enter index gap for array rotation:2\n",
      "Original array: [1, 2, 3, 4, 5, 6, 7, 8]\n",
      "Right Rotated array: [7, 8, 1, 2, 3, 4, 5, 6]\n",
      "Left Rotated array: [3, 4, 5, 6, 7, 8, 1, 2]\n"
     ]
    }
   ],
   "source": [
    "#3. Write a Python Program for array rotation?\n",
    "\n",
    "n = int(input('Enter index gap for array rotation:'))\n",
    "\n",
    "arr1 = [1, 2, 3, 4, 5, 6, 7, 8]\n",
    "arr2 = []\n",
    "arr3 = []\n",
    "\n",
    "#Right rotation\n",
    "for i in range(len(arr1)):\n",
    "    arr2.append(arr1[i-n])\n",
    "    \n",
    "#left rotation    \n",
    "arr3.extend(arr1[n:len(arr1)+n])\n",
    "arr3.extend(arr1[:n])\n",
    "    \n",
    "    \n",
    "print('Original array:',arr1)\n",
    "print('Right Rotated array:',arr2)\n",
    "print('Left Rotated array:',arr3)"
   ]
  },
  {
   "cell_type": "code",
   "execution_count": 4,
   "metadata": {},
   "outputs": [
    {
     "name": "stdout",
     "output_type": "stream",
     "text": [
      "Enter Index number to split: 3\n",
      "Array after splitting and adding at end:  [2, 3, 4, 5, 'Data', 'Python', 1]\n"
     ]
    }
   ],
   "source": [
    "# 4.Write a Python Program to Split the array and add the first part to the end?\n",
    "\n",
    "arr = [\"Data\",\"Python\",1,2,3,4,5]\n",
    "\n",
    "split=[]\n",
    "n = int(input('Enter Index number to split: '))\n",
    "\n",
    "split.extend(arr[n:])\n",
    "split.extend(arr[:n])\n",
    "print(\"Array after splitting and adding at end: \",split)"
   ]
  },
  {
   "cell_type": "code",
   "execution_count": 5,
   "metadata": {},
   "outputs": [
    {
     "name": "stdout",
     "output_type": "stream",
     "text": [
      "Enter no of elements in array8\n",
      "Enter element number 1: 9\n",
      "Enter element number 2: 9\n",
      "Enter element number 3: 7\n",
      "Enter element number 4: 6\n",
      "Enter element number 5: 5\n",
      "Enter element number 6: 4\n",
      "Enter element number 7: 3\n",
      "Enter element number 8: 1\n",
      "\n",
      "Decreasing Monotonic\n"
     ]
    }
   ],
   "source": [
    "# 5.Write a Python Program to check if given array is Monotonic?\n",
    "\n",
    "size = int(input('Enter no of elements in array'))\n",
    "l = []\n",
    "for i in range(size):\n",
    "    number = int(input('Enter element number {}: '.format(i+1)))\n",
    "    l.append(number)\n",
    "\n",
    "imonotonic = [True if l[i] <= l[i+1] else False for i in range(size-1) ] \n",
    "dmonotonic = [True if l[i] >= l[i+1] else False for i in range(size-1) ]\n",
    "        \n",
    "if sum(imonotonic) == (size-1):     \n",
    "    print('\\nIncreasing monotonic') \n",
    "elif sum(dmonotonic) == (size-1):\n",
    "    print('\\nDecreasing Monotonic')\n",
    "else:\n",
    "    print('not monotonic')  "
   ]
  },
  {
   "cell_type": "code",
   "execution_count": null,
   "metadata": {},
   "outputs": [],
   "source": []
  }
 ],
 "metadata": {
  "kernelspec": {
   "display_name": "Python 3",
   "language": "python",
   "name": "python3"
  },
  "language_info": {
   "codemirror_mode": {
    "name": "ipython",
    "version": 3
   },
   "file_extension": ".py",
   "mimetype": "text/x-python",
   "name": "python",
   "nbconvert_exporter": "python",
   "pygments_lexer": "ipython3",
   "version": "3.8.3"
  }
 },
 "nbformat": 4,
 "nbformat_minor": 4
}
