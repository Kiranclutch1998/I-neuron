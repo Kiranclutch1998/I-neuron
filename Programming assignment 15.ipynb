{
 "cells": [
  {
   "cell_type": "code",
   "execution_count": 1,
   "metadata": {},
   "outputs": [
    {
     "name": "stdout",
     "output_type": "stream",
     "text": [
      "Enter value of n : 100\n",
      "0,35,70\n"
     ]
    }
   ],
   "source": [
    "# 1.Please write a program using generator to print the numbers which can be divisible by 5 and 7 between 0 and n in comma separated form while n is input by console.\n",
    "\n",
    "n = int(input('Enter value of n : '))\n",
    "\n",
    "def divisible(n):\n",
    "    for i in range(n+1):\n",
    "        if (i % 5 == 0) and (i % 7 == 0):\n",
    "            yield i\n",
    "\n",
    "l = []            \n",
    "for j in divisible(n):\n",
    "    l.append(str(j)) \n",
    "print(','.join(l))  "
   ]
  },
  {
   "cell_type": "code",
   "execution_count": 2,
   "metadata": {},
   "outputs": [
    {
     "name": "stdout",
     "output_type": "stream",
     "text": [
      "Enter value of n : 10\n",
      "0,2,4,6,8,10\n"
     ]
    }
   ],
   "source": [
    "# 2.Please write a program using generator to print the even numbers between 0 and n in comma separated form while n is input by console.\n",
    "\n",
    "n = int(input('Enter value of n : '))\n",
    "\n",
    "def even(n):\n",
    "    for i in range(n+1):\n",
    "        if (i % 2 == 0):\n",
    "            yield i\n",
    "\n",
    "l = []            \n",
    "for j in even(n):\n",
    "    l.append(str(j)) \n",
    "print(','.join(l)) "
   ]
  },
  {
   "cell_type": "code",
   "execution_count": 3,
   "metadata": {},
   "outputs": [
    {
     "name": "stdout",
     "output_type": "stream",
     "text": [
      "Enter value of n (>1) : 7\n",
      "0,1,1,2,3,5,8,13\n"
     ]
    }
   ],
   "source": [
    "# 3.Please write a program using list comprehension to print the Fibonacci Sequence in comma separated form with a given n input by console.\n",
    "\n",
    "n = int(input('Enter value of n (>1) : '))\n",
    "\n",
    "fibb = [0,1]\n",
    "list1 = [fibb.append(fibb[-1] + fibb[-2]) for i in range(n-1)]\n",
    "fibb = [str(i) for i in fibb]\n",
    "print(','.join(fibb))"
   ]
  },
  {
   "cell_type": "code",
   "execution_count": 4,
   "metadata": {},
   "outputs": [
    {
     "name": "stdout",
     "output_type": "stream",
     "text": [
      "john\n"
     ]
    }
   ],
   "source": [
    "# 4.Assuming that we have some email addresses in the &quot;username@companyname.com&quot; format, please write program to print the user name of a given email address.\n",
    "\n",
    "email = 'john@google.com'\n",
    "\n",
    "def username():\n",
    "    a = email.split('@')\n",
    "    return a[0]\n",
    "\n",
    "print(username())"
   ]
  },
  {
   "cell_type": "code",
   "execution_count": 6,
   "metadata": {},
   "outputs": [
    {
     "data": {
      "text/plain": [
       "'The area of square is 25 sq.cm'"
      ]
     },
     "execution_count": 6,
     "metadata": {},
     "output_type": "execute_result"
    }
   ],
   "source": [
    "# 5.Define a class named Shape and its subclass Square. The Square class has an init function which takes a length as argument. Both classes have a area function which can print the area of the shape where Shape's area is 0 by default.\n",
    "\n",
    "class Shape: \n",
    "    def __init__(self):\n",
    "        pass\n",
    "    def Shape_area(self):\n",
    "        return 0\n",
    "    \n",
    "class Square(Shape):\n",
    "    def __init__(self,length):\n",
    "        Shape.__init__(self)\n",
    "        self.length = length\n",
    "            \n",
    "    def Square_area(self):\n",
    "        area = self.length**2\n",
    "        return 'The area of square is {} sq.cm'.format(area)\n",
    "        \n",
    "sq = Square(5)\n",
    "sq.Square_area()"
   ]
  },
  {
   "cell_type": "code",
   "execution_count": null,
   "metadata": {},
   "outputs": [],
   "source": []
  }
 ],
 "metadata": {
  "kernelspec": {
   "display_name": "Python 3",
   "language": "python",
   "name": "python3"
  },
  "language_info": {
   "codemirror_mode": {
    "name": "ipython",
    "version": 3
   },
   "file_extension": ".py",
   "mimetype": "text/x-python",
   "name": "python",
   "nbconvert_exporter": "python",
   "pygments_lexer": "ipython3",
   "version": "3.8.3"
  }
 },
 "nbformat": 4,
 "nbformat_minor": 4
}
