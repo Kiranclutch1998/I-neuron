{
 "cells": [
  {
   "cell_type": "code",
   "execution_count": 1,
   "metadata": {},
   "outputs": [],
   "source": [
    "# Question 1. \n",
    "# Create a function that takes a number n (integer greater than zero) as an argument, and returns 2 if n is odd and 8 if n is even.\n",
    "\n",
    "def f(n):\n",
    "    even_odd = [8,2]\n",
    "    return even_odd[n%2]"
   ]
  },
  {
   "cell_type": "code",
   "execution_count": 2,
   "metadata": {},
   "outputs": [
    {
     "data": {
      "text/plain": [
       "2"
      ]
     },
     "execution_count": 2,
     "metadata": {},
     "output_type": "execute_result"
    }
   ],
   "source": [
    "f(1)"
   ]
  },
  {
   "cell_type": "code",
   "execution_count": 3,
   "metadata": {},
   "outputs": [
    {
     "data": {
      "text/plain": [
       "8"
      ]
     },
     "execution_count": 3,
     "metadata": {},
     "output_type": "execute_result"
    }
   ],
   "source": [
    "f(2)"
   ]
  },
  {
   "cell_type": "code",
   "execution_count": 4,
   "metadata": {},
   "outputs": [],
   "source": [
    "# Question 2. \n",
    "# Create a function that returns the majority vote in a list.\n",
    "# A majority vote is an element that occurs > N/2 times in a list (where N is the length of the list).\n",
    "\n",
    "def majority_vote(list1):\n",
    "    for i in list1:\n",
    "        if list1.count(i) > len(list1)/2:\n",
    "            return i\n",
    "            break\n",
    "    else:\n",
    "        return 'None'"
   ]
  },
  {
   "cell_type": "code",
   "execution_count": 5,
   "metadata": {},
   "outputs": [
    {
     "data": {
      "text/plain": [
       "'A'"
      ]
     },
     "execution_count": 5,
     "metadata": {},
     "output_type": "execute_result"
    }
   ],
   "source": [
    "majority_vote([\"A\", \"A\", \"A\", \"B\", \"C\", \"A\"]) "
   ]
  },
  {
   "cell_type": "code",
   "execution_count": 6,
   "metadata": {},
   "outputs": [
    {
     "data": {
      "text/plain": [
       "'None'"
      ]
     },
     "execution_count": 6,
     "metadata": {},
     "output_type": "execute_result"
    }
   ],
   "source": [
    "majority_vote([\"A\", \"B\", \"B\", \"A\", \"C\", \"C\"]) "
   ]
  },
  {
   "cell_type": "code",
   "execution_count": 7,
   "metadata": {},
   "outputs": [],
   "source": [
    "# Question 3. \n",
    "# Create a function that takes a string txt and censors any word from a given list lst. \n",
    "# The text removed must be replaced by the given character char.\n",
    "\n",
    "def censor_string(string1,list1,censor):\n",
    "    \n",
    "    list1 = [i.lower() for i in list1]\n",
    "    string2 = string1.lower()\n",
    "    \n",
    "    censor1 = []\n",
    "    for i in range(len(list1)):\n",
    "        for j in range(len(list1[i])):\n",
    "            censor1.append(censor)\n",
    "        censor1.append(' ')\n",
    "        \n",
    "    censor1 = ''.join(censor1)\n",
    "    censor1 = censor1.split(' ')\n",
    "    \n",
    "    for i in range(len(list1)):\n",
    "        string1 = string1.replace(list1[i],censor1[i])\n",
    "        \n",
    "    return string1"
   ]
  },
  {
   "cell_type": "code",
   "execution_count": 8,
   "metadata": {},
   "outputs": [
    {
     "data": {
      "text/plain": [
       "'Why *** the ******* cross the ****?'"
      ]
     },
     "execution_count": 8,
     "metadata": {},
     "output_type": "execute_result"
    }
   ],
   "source": [
    "censor_string(\"Why did the chicken cross the road?\", [\"Did\", \"chicken\", \"road\"], \"*\") "
   ]
  },
  {
   "cell_type": "code",
   "execution_count": 9,
   "metadata": {},
   "outputs": [
    {
     "data": {
      "text/plain": [
       "'The *** jumped **** the moon.'"
      ]
     },
     "execution_count": 9,
     "metadata": {},
     "output_type": "execute_result"
    }
   ],
   "source": [
    "censor_string(\"The cow jumped over the moon.\", [\"cow\", \"over\"], \"*\")"
   ]
  },
  {
   "cell_type": "code",
   "execution_count": 10,
   "metadata": {},
   "outputs": [],
   "source": [
    "# Question 4.\n",
    "# Create a function which takes an integer n and returns True if the given number is a Polydivisible Number and False otherwise\n",
    "\n",
    "def is_polydivisible(n) :\n",
    "    list1 = [i for i in str(n)]\n",
    "    list2 = [list1[:i] for i in range(1,len(list1)+1)]\n",
    "    list3 = [int(''.join(list2[i])) for i in range(len(list2))]\n",
    "    \n",
    "    check = [i for i in range(1,len(list1)+1)]\n",
    "    \n",
    "    if list3[0] == 0:\n",
    "        return False\n",
    "    else:\n",
    "        total = []\n",
    "        for i in range(len(list1)):\n",
    "            if list3[i] % check[i] == 0:\n",
    "                total.append(1)\n",
    "        if sum(total) == len(list1):\n",
    "            return True\n",
    "        else:\n",
    "            return False"
   ]
  },
  {
   "cell_type": "code",
   "execution_count": 11,
   "metadata": {},
   "outputs": [
    {
     "data": {
      "text/plain": [
       "True"
      ]
     },
     "execution_count": 11,
     "metadata": {},
     "output_type": "execute_result"
    }
   ],
   "source": [
    "is_polydivisible(1232) "
   ]
  },
  {
   "cell_type": "code",
   "execution_count": 12,
   "metadata": {},
   "outputs": [
    {
     "data": {
      "text/plain": [
       "False"
      ]
     },
     "execution_count": 12,
     "metadata": {},
     "output_type": "execute_result"
    }
   ],
   "source": [
    "is_polydivisible(123220 ) "
   ]
  },
  {
   "cell_type": "code",
   "execution_count": 13,
   "metadata": {},
   "outputs": [],
   "source": [
    "# Question 5. \n",
    "# Create a function that takes a list of numbers and returns the sum of all prime numbers in the list.\n",
    "\n",
    "def sum_primes(list1):\n",
    "    not_prime = [1]\n",
    "    for i in range(len(list1)):\n",
    "        if list1[i] >1:\n",
    "            for j in range(2,list1[i]):\n",
    "                if list1[i]%j == 0:\n",
    "                    not_prime.append(list1[i])\n",
    "        prime = [i for i in list1 if i not in not_prime]\n",
    "    if list1 == []:\n",
    "        return 'None'\n",
    "    else: \n",
    "        return sum(prime)"
   ]
  },
  {
   "cell_type": "code",
   "execution_count": 14,
   "metadata": {},
   "outputs": [
    {
     "data": {
      "text/plain": [
       "17"
      ]
     },
     "execution_count": 14,
     "metadata": {},
     "output_type": "execute_result"
    }
   ],
   "source": [
    "sum_primes([1, 2, 3, 4, 5, 6, 7, 8, 9, 10]) "
   ]
  },
  {
   "cell_type": "code",
   "execution_count": 15,
   "metadata": {},
   "outputs": [
    {
     "data": {
      "text/plain": [
       "87"
      ]
     },
     "execution_count": 15,
     "metadata": {},
     "output_type": "execute_result"
    }
   ],
   "source": [
    "sum_primes([2, 3, 4, 11, 20, 50, 71]) "
   ]
  },
  {
   "cell_type": "code",
   "execution_count": 16,
   "metadata": {},
   "outputs": [
    {
     "data": {
      "text/plain": [
       "'None'"
      ]
     },
     "execution_count": 16,
     "metadata": {},
     "output_type": "execute_result"
    }
   ],
   "source": [
    "sum_primes([]) "
   ]
  },
  {
   "cell_type": "code",
   "execution_count": null,
   "metadata": {},
   "outputs": [],
   "source": []
  }
 ],
 "metadata": {
  "kernelspec": {
   "display_name": "Python 3",
   "language": "python",
   "name": "python3"
  },
  "language_info": {
   "codemirror_mode": {
    "name": "ipython",
    "version": 3
   },
   "file_extension": ".py",
   "mimetype": "text/x-python",
   "name": "python",
   "nbconvert_exporter": "python",
   "pygments_lexer": "ipython3",
   "version": "3.8.3"
  }
 },
 "nbformat": 4,
 "nbformat_minor": 4
}
