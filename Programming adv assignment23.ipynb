{
 "cells": [
  {
   "cell_type": "code",
   "execution_count": 1,
   "metadata": {},
   "outputs": [],
   "source": [
    "# Question 1.\n",
    "\n",
    "class Sudoku:\n",
    "    \n",
    "    def __init__(self,string):\n",
    "        self.string = string\n",
    "        str1 = [int(i) for i in self.string]\n",
    "        self.board = [str1[:9],str1[9:18],str1[18:27],str1[27:36],str1[36:45],str1[45:54],str1[54:63],str1[63:72],str1[72:]]\n",
    "    \n",
    "    def get_row(self,n):\n",
    "        return self.board[n]\n",
    "    \n",
    "    def get_col(self,n):\n",
    "        col = [self.board[i][n] for i in range(len(self.board))]\n",
    "        return col\n",
    "    \n",
    "    def get_sqr(self,square):\n",
    "        \n",
    "        co_ordinates = [[(i,j) for i in range(3) for j in range(3)],\n",
    "                    [(i,j) for i in range(3) for j in range(3,6)],\n",
    "                    [(i,j) for i in range(3) for j in range(6,9)],\n",
    "                    [(i,j) for i in range(3,6) for j in range(3)],\n",
    "                    [(i,j) for i in range(3,6) for j in range(3,6)],\n",
    "                    [(i,j) for i in range(3,6) for j in range(6,9)],\n",
    "                    [(i,j) for i in range(6,9) for j in range(3)],\n",
    "                    [(i,j) for i in range(6,9) for j in range(3,6)],\n",
    "                    [(i,j) for i in range(6,9) for j in range(6,9)]]\n",
    "        \n",
    "        result = [ [self.board[i][j] for i in range(3) for j in range(3)],\n",
    "                [ self.board[i][j] for i in range(3) for j in range(3,6)],\n",
    "                [ self.board[i][j] for i in range(3) for j in range(6,9)],\n",
    "                [ self.board[i][j] for i in range(3,6) for j in range(3)],\n",
    "                [ self.board[i][j] for i in range(3,6) for j in range(3,6)],\n",
    "                [ self.board[i][j] for i in range(3,6) for j in range(6,9)],\n",
    "                [ self.board[i][j] for i in range(6,9) for j in range(3)],\n",
    "                [ self.board[i][j] for i in range(6,9) for j in range(3,6)],\n",
    "                [ self.board[i][j] for i in range(6,9) for j in range(6,9)]]\n",
    "        \n",
    "        if type(square)== int:\n",
    "            return result[square]\n",
    "        else:\n",
    "            for i in range(len(co_ordinates)):\n",
    "                if square in co_ordinates[i]:\n",
    "                    return result[i]"
   ]
  },
  {
   "cell_type": "code",
   "execution_count": 2,
   "metadata": {},
   "outputs": [],
   "source": [
    "game = Sudoku(\"417950030000000700060007000050009106800600000000003400900005000000430000200701580\")"
   ]
  },
  {
   "cell_type": "code",
   "execution_count": 3,
   "metadata": {},
   "outputs": [
    {
     "data": {
      "text/plain": [
       "[[4, 1, 7, 9, 5, 0, 0, 3, 0],\n",
       " [0, 0, 0, 0, 0, 0, 7, 0, 0],\n",
       " [0, 6, 0, 0, 0, 7, 0, 0, 0],\n",
       " [0, 5, 0, 0, 0, 9, 1, 0, 6],\n",
       " [8, 0, 0, 6, 0, 0, 0, 0, 0],\n",
       " [0, 0, 0, 0, 0, 3, 4, 0, 0],\n",
       " [9, 0, 0, 0, 0, 5, 0, 0, 0],\n",
       " [0, 0, 0, 4, 3, 0, 0, 0, 0],\n",
       " [2, 0, 0, 7, 0, 1, 5, 8, 0]]"
      ]
     },
     "execution_count": 3,
     "metadata": {},
     "output_type": "execute_result"
    }
   ],
   "source": [
    "game.board"
   ]
  },
  {
   "cell_type": "code",
   "execution_count": 4,
   "metadata": {},
   "outputs": [
    {
     "data": {
      "text/plain": [
       "[0, 0, 0, 0, 0, 0, 7, 0, 0]"
      ]
     },
     "execution_count": 4,
     "metadata": {},
     "output_type": "execute_result"
    }
   ],
   "source": [
    "game.get_row(1)"
   ]
  },
  {
   "cell_type": "code",
   "execution_count": 5,
   "metadata": {},
   "outputs": [
    {
     "data": {
      "text/plain": [
       "[0, 0, 0, 6, 0, 0, 0, 0, 0]"
      ]
     },
     "execution_count": 5,
     "metadata": {},
     "output_type": "execute_result"
    }
   ],
   "source": [
    "game.get_col(8)"
   ]
  },
  {
   "cell_type": "code",
   "execution_count": 6,
   "metadata": {},
   "outputs": [
    {
     "data": {
      "text/plain": [
       "[9, 5, 0, 0, 0, 0, 0, 0, 7]"
      ]
     },
     "execution_count": 6,
     "metadata": {},
     "output_type": "execute_result"
    }
   ],
   "source": [
    "game.get_sqr(1)"
   ]
  },
  {
   "cell_type": "code",
   "execution_count": 7,
   "metadata": {},
   "outputs": [
    {
     "data": {
      "text/plain": [
       "[0, 3, 0, 7, 0, 0, 0, 0, 0]"
      ]
     },
     "execution_count": 7,
     "metadata": {},
     "output_type": "execute_result"
    }
   ],
   "source": [
    "game.get_sqr((1, 8))"
   ]
  },
  {
   "cell_type": "code",
   "execution_count": 8,
   "metadata": {},
   "outputs": [
    {
     "data": {
      "text/plain": [
       "[0, 0, 5, 4, 3, 0, 7, 0, 1]"
      ]
     },
     "execution_count": 8,
     "metadata": {},
     "output_type": "execute_result"
    }
   ],
   "source": [
    "game.get_sqr((8, 3))"
   ]
  },
  {
   "cell_type": "code",
   "execution_count": 9,
   "metadata": {},
   "outputs": [],
   "source": [
    "# Question 2.\n",
    "\n",
    "class ListNode:\n",
    "    \n",
    "    def __init__(self, val = 0, next_val = None):\n",
    "        self.val = val\n",
    "        self.next = next_val\n",
    "    \n",
    "    def add_data(self, lis):\n",
    "        for i in lis:\n",
    "            current_node = ListNode(i)\n",
    "            current_node.next = None\n",
    "            self.next = current_node\n",
    "            self = self.next\n",
    "        \n",
    "            \n",
    "    def get_data(self):\n",
    "        current_node = self\n",
    "        returned_list = list()\n",
    "        while current_node != None:\n",
    "            returned_list.append(current_node.val)\n",
    "            current_node = current_node.next\n",
    "        return returned_list\n",
    "\n",
    "def add_two_numbers(lis1, lis2):\n",
    "    str1, str2 = '',''\n",
    "    while lis1 != None:\n",
    "        str1 += str(lis1.val)\n",
    "        lis1 = lis1.next\n",
    "        \n",
    "    while lis2 != None:\n",
    "        str2 += str(lis2.val)\n",
    "        lis2 = lis2.next\n",
    "    \n",
    "    str_result = str(int(str1) + int(str2))\n",
    "    returned_list = ListNode(int(str_result[-1]))\n",
    "    if len(str_result) > 1:\n",
    "        returned_list.add_data(list(map(int, str_result[::-1][1:])))\n",
    "    return returned_list\n",
    "\n"
   ]
  },
  {
   "cell_type": "code",
   "execution_count": 10,
   "metadata": {},
   "outputs": [
    {
     "name": "stdout",
     "output_type": "stream",
     "text": [
      "[2, 4, 3]\n",
      "[5, 6, 4]\n"
     ]
    },
    {
     "data": {
      "text/plain": [
       "[7, 0, 8]"
      ]
     },
     "execution_count": 10,
     "metadata": {},
     "output_type": "execute_result"
    }
   ],
   "source": [
    "lt1 = ListNode(2)\n",
    "lt1.add_data([4, 3])\n",
    "lt2 = ListNode(5)\n",
    "lt2.add_data([6, 4])\n",
    "\n",
    "print(lt1.get_data())\n",
    "print(lt2.get_data())\n",
    "add_two_numbers(lt1, lt2).get_data()"
   ]
  },
  {
   "cell_type": "code",
   "execution_count": 11,
   "metadata": {},
   "outputs": [
    {
     "name": "stdout",
     "output_type": "stream",
     "text": [
      "[0]\n",
      "[0]\n"
     ]
    },
    {
     "data": {
      "text/plain": [
       "[0]"
      ]
     },
     "execution_count": 11,
     "metadata": {},
     "output_type": "execute_result"
    }
   ],
   "source": [
    "lt1 = ListNode(0)\n",
    "lt2 = ListNode(0)\n",
    "print(lt1.get_data())\n",
    "print(lt2.get_data()) \n",
    "add_two_numbers(lt1, lt2).get_data()"
   ]
  },
  {
   "cell_type": "code",
   "execution_count": 12,
   "metadata": {},
   "outputs": [],
   "source": [
    "# Question 3.\n",
    "\n",
    "class CoffeeShop:\n",
    "    def __init__(self):\n",
    "        self.name = 'The Coffee Shop'\n",
    "        self.menu = [\n",
    "            {\n",
    "                'name' : 'Iced Coffee',\n",
    "                'type' : 'drink',\n",
    "                'price' : 1.02\n",
    "            },\n",
    "            {\n",
    "                'name' : 'Lemonade',\n",
    "                'type' : 'drink',\n",
    "                'price' : 4.8\n",
    "            },\n",
    "            {\n",
    "                'name' : 'Orange Juice',\n",
    "                'type' : 'drink',\n",
    "                'price' : 1.8\n",
    "            },\n",
    "            {\n",
    "                'name' : 'Pineapple Juice',\n",
    "                'type' : 'drink',\n",
    "                'price' : 3.5\n",
    "            },\n",
    "            {\n",
    "                'name' : 'Hot Chocolate',\n",
    "                'type' : 'drink',\n",
    "                'price' : 2.9\n",
    "            },\n",
    "            {\n",
    "                'name' : 'Tuna Sandwich',\n",
    "                'type' : 'food',\n",
    "                'price' : 10.03\n",
    "            },\n",
    "            {\n",
    "                'name' : 'Ham and Cheese Sandwich',\n",
    "                'type' : 'food',\n",
    "                'price' : 9.7\n",
    "            },\n",
    "            {\n",
    "                'name' : 'Bacon and Egg',\n",
    "                'type' : 'food',\n",
    "                'price' : 9.9\n",
    "            },\n",
    "            {\n",
    "                'name' : 'Steak',\n",
    "                'type' : 'food',\n",
    "                'price' : 6.78\n",
    "            },\n",
    "            {\n",
    "                'name' : 'Hamburger',\n",
    "                'type' : 'food',\n",
    "                'price' : 13.25\n",
    "            },\n",
    "            {\n",
    "                'name' : 'Cinnamon Roll',\n",
    "                'type' : 'food',\n",
    "                'price' : 12.28\n",
    "            }\n",
    "        ]\n",
    "        \n",
    "        self.orders = []\n",
    "    \n",
    "    def add_order(self, item):\n",
    "        for i in self.menu:\n",
    "            if item.lower() == i['name'].lower():\n",
    "                self.orders.append(i)\n",
    "        if not len(self.orders):\n",
    "            return 'This item is currently unavailable!'\n",
    "        else:\n",
    "            return 'Order added!'\n",
    "        \n",
    "    def list_orders(self):\n",
    "        return [item['name'] for item in self.orders]            \n",
    "        \n",
    "    def due_amount(self):\n",
    "        amount = 0\n",
    "        for item in self.orders:\n",
    "            amount += item['price']\n",
    "        return round(amount,3)\n",
    "    \n",
    "    def fullfill_order(self):\n",
    "        if not len(self.orders):\n",
    "            return 'All orders have been fulfilled!'\n",
    "        return 'The ' + self.orders.pop(0)['name'] + ' is ready!'\n",
    "    \n",
    "    def cheapest_item(self):\n",
    "        price = float('inf')\n",
    "        cheapest_name = ''\n",
    "        for item in self.menu:\n",
    "            if item['price'] < price:\n",
    "                price = item['price']\n",
    "                cheapest_name = item['name']\n",
    "        return cheapest_name\n",
    "    \n",
    "    def drinks_only(self):\n",
    "        return [item['name'] for item in self.menu if item['type'] == 'drink']\n",
    "    \n",
    "    def foods_only(self):\n",
    "        return [item['name'] for item in self.menu if item['type'] == 'food']"
   ]
  },
  {
   "cell_type": "code",
   "execution_count": 13,
   "metadata": {},
   "outputs": [
    {
     "name": "stdout",
     "output_type": "stream",
     "text": [
      "This item is currently unavailable!\n",
      "This item is currently unavailable!\n",
      "Order added!\n",
      "Order added!\n",
      "['Cinnamon Roll', 'Iced Coffee']\n",
      "13.3\n",
      "The Cinnamon Roll is ready!\n",
      "The Iced Coffee is ready!\n",
      "All orders have been fulfilled!\n",
      "[]\n",
      "0\n",
      "Iced Coffee\n",
      "['Iced Coffee', 'Lemonade', 'Orange Juice', 'Pineapple Juice', 'Hot Chocolate']\n",
      "['Tuna Sandwich', 'Ham and Cheese Sandwich', 'Bacon and Egg', 'Steak', 'Hamburger', 'Cinnamon Roll']\n"
     ]
    }
   ],
   "source": [
    "tcs = CoffeeShop()\n",
    "print(tcs.add_order('hot cocoa'))\n",
    "print(tcs.add_order('iced tea'))\n",
    "print(tcs.add_order('cinnamon roll'))\n",
    "print(tcs.add_order('iced coffee'))\n",
    "print(tcs.list_orders())\n",
    "print(tcs.due_amount())\n",
    "print(tcs.fullfill_order())\n",
    "print(tcs.fullfill_order())\n",
    "print(tcs.fullfill_order())\n",
    "print(tcs.list_orders())\n",
    "print(tcs.due_amount())\n",
    "print(tcs.cheapest_item())\n",
    "print(tcs.drinks_only())\n",
    "print(tcs.foods_only())"
   ]
  },
  {
   "cell_type": "code",
   "execution_count": 14,
   "metadata": {},
   "outputs": [],
   "source": [
    "# Question 4.\n",
    "\n",
    "from math import floor, sqrt\n",
    "def find_prev_prime(num):\n",
    "    counter = 2\n",
    "    while counter != num:\n",
    "        if not num % counter:\n",
    "            num -= 1\n",
    "            counter = 2\n",
    "        else:\n",
    "            counter += 1\n",
    "    return num\n",
    "\n",
    "def find_next_prime(num):\n",
    "    counter = 2\n",
    "    while counter < floor(sqrt(num)) + 1:\n",
    "        if not num % counter:\n",
    "            num += 1\n",
    "            counter = 2\n",
    "        else:\n",
    "            counter += 1\n",
    "    return num\n",
    "\n",
    "def loneliest_number(low, high):\n",
    "    returned_dict = {\n",
    "        'number' : 0,\n",
    "        'distance' : None,\n",
    "        'closest' : None\n",
    "    }\n",
    "    \n",
    "    if low > 1:\n",
    "        prev_prime = find_prev_prime(low - 1)\n",
    "        next_prime = find_next_prime(low + 1)\n",
    "    else:\n",
    "        prev_prime = 2\n",
    "        next_prime = 3\n",
    "\n",
    "    temp_prime = None\n",
    "    for i in range(low, high + 1):\n",
    "        \n",
    "        if next_prime == i:\n",
    "            temp_prime = next_prime\n",
    "            next_prime = find_next_prime(i + 1)\n",
    "        \n",
    "        distance = min(abs(i - prev_prime) , abs(i - next_prime))\n",
    "\n",
    "        if returned_dict['distance'] == None:\n",
    "            returned_dict['distance'] = distance\n",
    "            returned_dict['number'] = i\n",
    "            if abs(i - prev_prime) > abs(i - next_prime):\n",
    "                returned_dict['closest'] = next_prime\n",
    "            else:\n",
    "                returned_dict['closest'] = prev_prime\n",
    "                \n",
    "            \n",
    "        else:\n",
    "            if distance > returned_dict['distance']:\n",
    "                returned_dict['distance'] = distance\n",
    "                returned_dict['number'] = i\n",
    "                if abs(i - prev_prime) >= abs(i - next_prime):\n",
    "                    returned_dict['closest'] = next_prime\n",
    "                else:\n",
    "                    returned_dict['closest'] = prev_prime        \n",
    "        \n",
    "        if temp_prime == i:\n",
    "            prev_prime = temp_prime\n",
    "        \n",
    "    return returned_dict"
   ]
  },
  {
   "cell_type": "code",
   "execution_count": 15,
   "metadata": {},
   "outputs": [
    {
     "name": "stdout",
     "output_type": "stream",
     "text": [
      "{'number': 0, 'distance': 2, 'closest': 2}\n",
      "{'number': 120, 'distance': 7, 'closest': 127}\n",
      "{'number': 1140, 'distance': 11, 'closest': 1151}\n",
      "{'number': 211, 'distance': 12, 'closest': 223}\n"
     ]
    }
   ],
   "source": [
    "print(loneliest_number(0, 22))\n",
    "print(loneliest_number(8, 123))\n",
    "print(loneliest_number(938, 1190))\n",
    "print(loneliest_number(120, 1190))"
   ]
  },
  {
   "cell_type": "code",
   "execution_count": 16,
   "metadata": {},
   "outputs": [
    {
     "name": "stdout",
     "output_type": "stream",
     "text": [
      "2\n",
      "5\n",
      "2\n"
     ]
    }
   ],
   "source": [
    "# Question 5.\n",
    "class Selfie:\n",
    "    \n",
    "    def __init__(self):\n",
    "        self.state = []\n",
    "    \n",
    "    def save_state(self):\n",
    "        self.state.append(self.x)\n",
    "    \n",
    "    def recover_state(self, index):\n",
    "        self.x = self.state[index]\n",
    "        return self\n",
    "        \n",
    "p = Selfie()\n",
    "p.x = 2\n",
    "print(p.x)\n",
    "p.save_state()\n",
    "\n",
    "p.x = 5\n",
    "p.save_state()\n",
    "print(p.x)\n",
    "p = p.recover_state(0)\n",
    "print(p.x)"
   ]
  },
  {
   "cell_type": "code",
   "execution_count": 17,
   "metadata": {},
   "outputs": [
    {
     "name": "stdout",
     "output_type": "stream",
     "text": [
      "7\n",
      "11\n",
      "5\n"
     ]
    }
   ],
   "source": [
    "p.x = 7\n",
    "p.save_state()\n",
    "print(p.x)\n",
    "p.x = 11\n",
    "p.save_state()\n",
    "print(p.x)\n",
    "p.recover_state(1)\n",
    "print(p.x)"
   ]
  },
  {
   "cell_type": "code",
   "execution_count": null,
   "metadata": {},
   "outputs": [],
   "source": []
  }
 ],
 "metadata": {
  "kernelspec": {
   "display_name": "Python 3",
   "language": "python",
   "name": "python3"
  },
  "language_info": {
   "codemirror_mode": {
    "name": "ipython",
    "version": 3
   },
   "file_extension": ".py",
   "mimetype": "text/x-python",
   "name": "python",
   "nbconvert_exporter": "python",
   "pygments_lexer": "ipython3",
   "version": "3.8.3"
  }
 },
 "nbformat": 4,
 "nbformat_minor": 4
}
