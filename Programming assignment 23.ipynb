{
 "cells": [
  {
   "cell_type": "code",
   "execution_count": 1,
   "metadata": {},
   "outputs": [
    {
     "data": {
      "text/plain": [
       "True"
      ]
     },
     "execution_count": 1,
     "metadata": {},
     "output_type": "execute_result"
    }
   ],
   "source": [
    "# Question 1\n",
    "# Create a function that takes a number as an argument and returns True or False depending on whether the number is symmetrical or not. A number is symmetrical when it is the same as its reverse.\n",
    "\n",
    "def is_symmetrical(num):\n",
    "    num = str(num)\n",
    "    mid = len(num)//2 \n",
    "    \n",
    "    if len(num) % 2 == 0:\n",
    "        l1 = [num[i] for i in range(mid)]\n",
    "        l2 = [num[i] for i in range(mid,len(num))]    \n",
    "        l2.reverse()\n",
    "    else:\n",
    "        l1 = [num[i] for i in range(mid)]\n",
    "        l2 = [num[i] for i in range(mid+1,len(num))]\n",
    "        l2.reverse()\n",
    "    \n",
    "    if l1 == l2:\n",
    "        return True\n",
    "    else:\n",
    "        return False\n",
    "\n",
    "is_symmetrical(1112111) "
   ]
  },
  {
   "cell_type": "code",
   "execution_count": 2,
   "metadata": {},
   "outputs": [
    {
     "data": {
      "text/plain": [
       "24"
      ]
     },
     "execution_count": 2,
     "metadata": {},
     "output_type": "execute_result"
    }
   ],
   "source": [
    "# Question 2\n",
    "# Given a string of numbers separated by a comma and space, return the product of the numbers.\n",
    "\n",
    "def multiply_nums(string):\n",
    "    \n",
    "    string = string.split(',')\n",
    "    string1 = [int(i) for i in string]\n",
    "    \n",
    "    mult = 1\n",
    "    for i in string1:\n",
    "        mult = mult * i\n",
    "    return mult\n",
    "\n",
    "multiply_nums(\"1, 2, 3, 4\")"
   ]
  },
  {
   "cell_type": "code",
   "execution_count": 3,
   "metadata": {},
   "outputs": [
    {
     "data": {
      "text/plain": [
       "811181"
      ]
     },
     "execution_count": 3,
     "metadata": {},
     "output_type": "execute_result"
    }
   ],
   "source": [
    "# Question 3\n",
    "# Create a function that squares every digit of a number.\n",
    "\n",
    "def square_digits(int1):\n",
    "    \n",
    "    string = [str(int(i)*int(i)) for i in list(str(int1))]\n",
    "    result = int(''.join(string))\n",
    "    \n",
    "    return result\n",
    "\n",
    "square_digits(9119) "
   ]
  },
  {
   "cell_type": "code",
   "execution_count": 5,
   "metadata": {},
   "outputs": [
    {
     "data": {
      "text/plain": [
       "[1, 2, 3]"
      ]
     },
     "execution_count": 5,
     "metadata": {},
     "output_type": "execute_result"
    }
   ],
   "source": [
    "# Question 4\n",
    "# Create a function that sorts a list and removes all duplicate items from it.\n",
    "\n",
    "def setify(list1):\n",
    "    list1.sort()\n",
    "    set1= set(list1)\n",
    "    result = list(set1)\n",
    "    \n",
    "    return result\n",
    "\n",
    "setify([3, 3, 3, 2, 1]) "
   ]
  },
  {
   "cell_type": "code",
   "execution_count": 6,
   "metadata": {},
   "outputs": [
    {
     "data": {
      "text/plain": [
       "2"
      ]
     },
     "execution_count": 6,
     "metadata": {},
     "output_type": "execute_result"
    }
   ],
   "source": [
    "# Question 5\n",
    "# Create a function that returns the mean of all digits\n",
    "\n",
    "def mean(int1):\n",
    "    string = [int(i) for i in str(int1)]\n",
    "    mean = sum(string)//len(string)\n",
    "    return mean\n",
    "\n",
    "mean(512)"
   ]
  },
  {
   "cell_type": "code",
   "execution_count": null,
   "metadata": {},
   "outputs": [],
   "source": []
  }
 ],
 "metadata": {
  "kernelspec": {
   "display_name": "Python 3",
   "language": "python",
   "name": "python3"
  },
  "language_info": {
   "codemirror_mode": {
    "name": "ipython",
    "version": 3
   },
   "file_extension": ".py",
   "mimetype": "text/x-python",
   "name": "python",
   "nbconvert_exporter": "python",
   "pygments_lexer": "ipython3",
   "version": "3.8.3"
  }
 },
 "nbformat": 4,
 "nbformat_minor": 4
}
