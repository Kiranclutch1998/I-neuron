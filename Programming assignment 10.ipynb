{
 "cells": [
  {
   "cell_type": "code",
   "execution_count": 1,
   "metadata": {},
   "outputs": [
    {
     "name": "stdout",
     "output_type": "stream",
     "text": [
      "Sum of elements in list : 28\n"
     ]
    }
   ],
   "source": [
    "# 1.Write a Python program to find sum of elements in list?\n",
    "\n",
    "l1 = [1,2,3,4,5,6,7]\n",
    "\n",
    "print('Sum of elements in list : {}'.format(sum(l1)))"
   ]
  },
  {
   "cell_type": "code",
   "execution_count": 2,
   "metadata": {},
   "outputs": [
    {
     "name": "stdout",
     "output_type": "stream",
     "text": [
      "Multiplication of all numbers in list : 432\n"
     ]
    }
   ],
   "source": [
    "# 2.Write a Python program to Multiply all numbers in the list?\n",
    "\n",
    "l2 =[1,2,3,4,3,6]\n",
    "mult = 1\n",
    "\n",
    "for i in l2:\n",
    "    mult = mult * i\n",
    "print('Multiplication of all numbers in list :',mult)"
   ]
  },
  {
   "cell_type": "code",
   "execution_count": 3,
   "metadata": {},
   "outputs": [
    {
     "name": "stdout",
     "output_type": "stream",
     "text": [
      "Smallest number in list is 7\n"
     ]
    }
   ],
   "source": [
    "# 3.Write a Python program to find smallest number in a list?\n",
    "\n",
    "l3 = [10,23,7,89,123,453,67]\n",
    "print('Smallest number in list is {}'.format(min(l3)))"
   ]
  },
  {
   "cell_type": "code",
   "execution_count": 4,
   "metadata": {},
   "outputs": [
    {
     "name": "stdout",
     "output_type": "stream",
     "text": [
      "Largest number in list is 453\n"
     ]
    }
   ],
   "source": [
    "# 4.Write a Python program to find largest number in a list?\n",
    "\n",
    "l4 = [10,23,7,89,123,453,67]\n",
    "print('Largest number in list is {}'.format(max(l3)))"
   ]
  },
  {
   "cell_type": "code",
   "execution_count": 5,
   "metadata": {},
   "outputs": [
    {
     "name": "stdout",
     "output_type": "stream",
     "text": [
      "Second largest number in list is 123\n"
     ]
    }
   ],
   "source": [
    "# 5.Write a Python program to find second largest number in a list?\n",
    "\n",
    "l4 = [10,23,7,89,123,453,67]\n",
    "l4.sort(reverse=True)\n",
    "print('Second largest number in list is {}'.format(l4[1]))\n"
   ]
  },
  {
   "cell_type": "code",
   "execution_count": 6,
   "metadata": {},
   "outputs": [
    {
     "name": "stdout",
     "output_type": "stream",
     "text": [
      "Enter no of elements required: 3\n",
      "largest element no. 1 - 453\n",
      "largest element no. 2 - 123\n",
      "largest element no. 3 - 89\n"
     ]
    }
   ],
   "source": [
    "# 6.Write a Python program to find N largest elements from a list?\n",
    "\n",
    "l5 = [10,23,7,89,123,453,67,77,45]\n",
    "l5.sort(reverse =True)\n",
    "\n",
    "N = int(input('Enter no of elements required: '))\n",
    "for i in range(N):\n",
    "    print('largest element no. {} -'.format(i+1),l5[i])"
   ]
  },
  {
   "cell_type": "code",
   "execution_count": 7,
   "metadata": {},
   "outputs": [
    {
     "name": "stdout",
     "output_type": "stream",
     "text": [
      "Even numbers in the list are :\n",
      "0\n",
      "2\n",
      "4\n",
      "6\n",
      "8\n",
      "10\n"
     ]
    }
   ],
   "source": [
    "# 7.Write a Python program to print even numbers in a list?\n",
    "\n",
    "l6 = [0,1,2,3,4,5,6,7,8,9,10]\n",
    "print('Even numbers in the list are :') \n",
    "for i in l6:\n",
    "    if i % 2 == 0:\n",
    "        print(i)"
   ]
  },
  {
   "cell_type": "code",
   "execution_count": 8,
   "metadata": {},
   "outputs": [
    {
     "name": "stdout",
     "output_type": "stream",
     "text": [
      "Odd numbers in the list are :\n",
      "1\n",
      "3\n",
      "5\n",
      "7\n",
      "9\n"
     ]
    }
   ],
   "source": [
    "# 8.Write a Python program to print odd numbers in a List?\n",
    "\n",
    "l6 = [0,1,2,3,4,5,6,7,8,9,10]\n",
    "print('Odd numbers in the list are :') \n",
    "for i in l6:\n",
    "    if i % 2 != 0:\n",
    "        print(i)"
   ]
  },
  {
   "cell_type": "code",
   "execution_count": 9,
   "metadata": {},
   "outputs": [
    {
     "data": {
      "text/plain": [
       "[[1, 2, 3, 4], ['a', 'b', 'c'], [7, 8, 9]]"
      ]
     },
     "execution_count": 9,
     "metadata": {},
     "output_type": "execute_result"
    }
   ],
   "source": [
    "# 9.Write a Python program to Remove empty List from List?\n",
    "\n",
    "flist = [[1,2,3,4],[],[],['a','b','c'],[],[],[7,8,9]]\n",
    "flist = [i for i in flist if i!= []]\n",
    "\n",
    "flist"
   ]
  },
  {
   "cell_type": "code",
   "execution_count": 10,
   "metadata": {},
   "outputs": [
    {
     "name": "stdout",
     "output_type": "stream",
     "text": [
      "Original List: [1, 4, 8, 2, 10, 15, 23, 18]\n",
      "After Cloning: [1, 4, 8, 2, 10, 15, 23, 18]\n"
     ]
    }
   ],
   "source": [
    "# 10.Write a Python program to Cloning or Copying a list?\n",
    "\n",
    "list1 = [1,4, 8, 2, 10, 15, 23, 18]\n",
    "list2 = [i for i in list1]\n",
    "\n",
    "print(\"Original List:\", list1)\n",
    "print(\"After Cloning:\", list2)"
   ]
  },
  {
   "cell_type": "code",
   "execution_count": 11,
   "metadata": {},
   "outputs": [
    {
     "name": "stdout",
     "output_type": "stream",
     "text": [
      "23 has occured 4 times in list\n"
     ]
    }
   ],
   "source": [
    "# 11.Write a Python program to Count occurrences of an element in a list?\n",
    "\n",
    "Count = [1,23,23,23,45,44,45,44,23,1,1,1,1,1]\n",
    "\n",
    "ele = 23\n",
    "print('{} has occured {} times in list'.format(ele,Count.count(ele)))"
   ]
  },
  {
   "cell_type": "code",
   "execution_count": null,
   "metadata": {},
   "outputs": [],
   "source": []
  }
 ],
 "metadata": {
  "kernelspec": {
   "display_name": "Python 3",
   "language": "python",
   "name": "python3"
  },
  "language_info": {
   "codemirror_mode": {
    "name": "ipython",
    "version": 3
   },
   "file_extension": ".py",
   "mimetype": "text/x-python",
   "name": "python",
   "nbconvert_exporter": "python",
   "pygments_lexer": "ipython3",
   "version": "3.8.3"
  }
 },
 "nbformat": 4,
 "nbformat_minor": 4
}
