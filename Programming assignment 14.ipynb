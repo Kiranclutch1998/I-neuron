{
 "cells": [
  {
   "cell_type": "code",
   "execution_count": 1,
   "metadata": {},
   "outputs": [
    {
     "name": "stdout",
     "output_type": "stream",
     "text": [
      "Enter value of n : 58\n",
      "[0, 7, 14, 21, 28, 35, 42, 49, 56]\n"
     ]
    }
   ],
   "source": [
    "# 1.Define a class with a generator which can iterate the numbers, which are divisible by 7, between a given range 0 and n.\n",
    "    \n",
    "class generator1:\n",
    "    n = int(input('Enter value of n : '))\n",
    "    \n",
    "    def div_check(n):\n",
    "        for i in range(n):\n",
    "            if i % 7 == 0:\n",
    "                yield i\n",
    "                \n",
    "print([i for i in generator1.div_check(58)])"
   ]
  },
  {
   "cell_type": "code",
   "execution_count": 2,
   "metadata": {},
   "outputs": [
    {
     "name": "stdout",
     "output_type": "stream",
     "text": [
      "Enter string : New to Python or choosing between Python 2 and Python 3? Read Python 2 or Python 3.\n"
     ]
    },
    {
     "data": {
      "text/plain": [
       "{'2': 2,\n",
       " '3.': 1,\n",
       " '3?': 1,\n",
       " 'New': 1,\n",
       " 'Python': 5,\n",
       " 'Read': 1,\n",
       " 'and': 1,\n",
       " 'between': 1,\n",
       " 'choosing': 1,\n",
       " 'or': 2,\n",
       " 'to': 1}"
      ]
     },
     "execution_count": 2,
     "metadata": {},
     "output_type": "execute_result"
    }
   ],
   "source": [
    "# 2.Write a program to compute the frequency of the words from the input. The output should output after sorting the key alphanumerically.\n",
    "\n",
    "srt = input('Enter string : ')\n",
    "\n",
    "def frequency():\n",
    "    splt = srt.split(' ')\n",
    "    splt.sort()\n",
    "    \n",
    "    dict_freq = [(i,splt.count(i)) for i in splt]\n",
    "    \n",
    "    return dict(dict_freq)\n",
    "\n",
    "frequency()  "
   ]
  },
  {
   "cell_type": "code",
   "execution_count": 3,
   "metadata": {},
   "outputs": [
    {
     "name": "stdout",
     "output_type": "stream",
     "text": [
      "Male\n",
      "Female\n"
     ]
    }
   ],
   "source": [
    "# 3.Define a class Person and its two child classes: Male and Female. \n",
    "# All classes have a method getGender(); which can print Male; for Male class and Female for Female class.\n",
    "\n",
    "class Person:\n",
    "    def getGender(self):\n",
    "        return 'Unknown'\n",
    "class Male(Person):\n",
    "    def getGender(self):\n",
    "        return 'Male'\n",
    "class Female(Person):\n",
    "    def getGender(self):\n",
    "        return 'Female'  \n",
    "    \n",
    "Male1 = Male()\n",
    "Female1 = Female()\n",
    "print(Male1.getGender())\n",
    "print(Female1.getGender())"
   ]
  },
  {
   "cell_type": "code",
   "execution_count": 4,
   "metadata": {},
   "outputs": [
    {
     "name": "stdout",
     "output_type": "stream",
     "text": [
      "I Play Hockey\n",
      "I Play Football\n",
      "I Love Hockey\n",
      "I Love Football\n",
      "You Play Hockey\n",
      "You Play Football\n",
      "You Love Hockey\n",
      "You Love Football\n"
     ]
    }
   ],
   "source": [
    "# 4. Please write a program to generate all sentences where subject is in ['I','You'] and verb is in ['Play','Love'] and the object is in [&quot;Hockey&quot;,&quot;Football&quot;].\n",
    "\n",
    "subject = ['I','You']\n",
    "verb    = ['Play','Love']\n",
    "object  = ['Hockey','Football']\n",
    "\n",
    "for i in range(len(subject)):\n",
    "    for j in range(len(verb)):\n",
    "        for k in range(len(object)):\n",
    "            print(subject[i] + ' ' + verb[j] + ' ' + object[k])"
   ]
  },
  {
   "cell_type": "code",
   "execution_count": 5,
   "metadata": {},
   "outputs": [
    {
     "name": "stdout",
     "output_type": "stream",
     "text": [
      "b'x\\x9c\\xcbH\\xcd\\xc9\\xc9W(\\xcf/\\xcaIQ\\xcc\\x00\\xb1\\x91\\x98\\n\\x98l\\x00\\xb2\\xe9\\x11\\xd5'\n",
      "b'hello world!helloworld!hello world!hello world!'\n"
     ]
    }
   ],
   "source": [
    "# 5.Please write a program to compress and decompress the string \"hello world!helloworld!hello world!hello world!\".\n",
    "\n",
    "import zlib\n",
    "\n",
    "string = \"hello world!helloworld!hello world!hello world!\"\n",
    "b = bytes(string,'utf-8')\n",
    "comp   = zlib.compress(b)\n",
    "print(comp)\n",
    "decomp = zlib.decompress(comp)\n",
    "print(decomp)"
   ]
  },
  {
   "cell_type": "code",
   "execution_count": 6,
   "metadata": {},
   "outputs": [
    {
     "data": {
      "text/plain": [
       "'The index of item is 6'"
      ]
     },
     "execution_count": 6,
     "metadata": {},
     "output_type": "execute_result"
    }
   ],
   "source": [
    "# 6.Please write a binary search function which searches an item in a sorted list. The function should return the index of element to be searched in the list.\n",
    "\n",
    "def binary_search(list1,item):\n",
    "    frst = 0\n",
    "    mid = 0\n",
    "    lst = len(list1)-1\n",
    "    \n",
    "    while frst <= lst:\n",
    "        \n",
    "        mid =  (frst + lst) // 2\n",
    "    \n",
    "        if list1[mid] == item:\n",
    "            return 'The index of item is {}'.format(mid)\n",
    "    \n",
    "        elif list1[mid] < item:\n",
    "            frst = mid + 1\n",
    "        \n",
    "        else :\n",
    "            lst = mid - 1\n",
    "    \n",
    "    return 'Item not present in list'\n",
    "\n",
    "binary_search([1,3,4,5,6,7,9],9)"
   ]
  },
  {
   "cell_type": "code",
   "execution_count": null,
   "metadata": {},
   "outputs": [],
   "source": []
  }
 ],
 "metadata": {
  "kernelspec": {
   "display_name": "Python 3",
   "language": "python",
   "name": "python3"
  },
  "language_info": {
   "codemirror_mode": {
    "name": "ipython",
    "version": 3
   },
   "file_extension": ".py",
   "mimetype": "text/x-python",
   "name": "python",
   "nbconvert_exporter": "python",
   "pygments_lexer": "ipython3",
   "version": "3.8.3"
  }
 },
 "nbformat": 4,
 "nbformat_minor": 4
}
