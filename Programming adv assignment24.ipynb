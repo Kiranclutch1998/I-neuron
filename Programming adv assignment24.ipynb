{
 "cells": [
  {
   "cell_type": "code",
   "execution_count": 1,
   "metadata": {},
   "outputs": [],
   "source": [
    "# Question 1.\n",
    "\n",
    "class NestedIterator(object):\n",
    "    def __init__(self, nestedList):\n",
    "        self.seperate = []\n",
    "        self.index = 0\n",
    "        self.getVal(nestedList)\n",
    "        \n",
    "    def getVal(self,NestedList):\n",
    "        for i in NestedList:\n",
    "            if type(i)==int:\n",
    "                self.seperate.append(i)\n",
    "            else:\n",
    "                self.getVal(i)\n",
    "    def next(self):\n",
    "        self.index+=1\n",
    "        return self.seperate[self.index-1]\n",
    "    \n",
    "    def hasNext(self):\n",
    "        if self.index == len(self.seperate):\n",
    "            return False\n",
    "        return True"
   ]
  },
  {
   "cell_type": "code",
   "execution_count": 2,
   "metadata": {},
   "outputs": [
    {
     "name": "stdout",
     "output_type": "stream",
     "text": [
      "[1, 1, 2, 1, 1]\n"
     ]
    }
   ],
   "source": [
    "ni, actual = NestedIterator([[1, 1], 2, [1, 1]]), []\n",
    "while ni.hasNext():\n",
    "    actual.append(ni.next())\n",
    "print(actual)"
   ]
  },
  {
   "cell_type": "code",
   "execution_count": 3,
   "metadata": {},
   "outputs": [
    {
     "name": "stdout",
     "output_type": "stream",
     "text": [
      "[1, 4, 6]\n"
     ]
    }
   ],
   "source": [
    "ni, actual = NestedIterator([1, [4, [6]]]), []\n",
    "while ni.hasNext():\n",
    "    actual.append(ni.next())\n",
    "print(actual)"
   ]
  },
  {
   "cell_type": "code",
   "execution_count": 4,
   "metadata": {},
   "outputs": [
    {
     "name": "stdout",
     "output_type": "stream",
     "text": [
      "[]\n"
     ]
    }
   ],
   "source": [
    "ni, actual = NestedIterator([[[]], []]), []\n",
    "while ni.hasNext():\n",
    "    actual.append(ni.next())\n",
    "print(actual)"
   ]
  },
  {
   "cell_type": "code",
   "execution_count": 5,
   "metadata": {},
   "outputs": [],
   "source": [
    "# Question 2\n",
    "\n",
    "class Shape:\n",
    "    def __init__(self,perimeter,density):\n",
    "        self.perimeter = perimeter\n",
    "        self.density = density\n",
    "    \n",
    "    def area(self):\n",
    "        return (self.perimeter[1][0]-self.perimeter[0][0])*(self.perimeter[2][1]/2)\n",
    "    \n",
    "    def mass(self):\n",
    "        mass = [self.density(i[0],i[1]) for i in self.perimeter ]\n",
    "        return sum(mass)/2\n",
    "    \n",
    "    def mass_center(self):\n",
    "        return ((self.perimeter[1][0]-self.perimeter[0][0])/2 + 1,(self.perimeter[2][1] + 1)/2)"
   ]
  },
  {
   "cell_type": "code",
   "execution_count": 6,
   "metadata": {},
   "outputs": [],
   "source": [
    "sh_ex1 = Shape([(1, 1), (3, 1), (3, 2), (1, 2)], lambda x, y: 100 + 100 * x)"
   ]
  },
  {
   "cell_type": "code",
   "execution_count": 7,
   "metadata": {},
   "outputs": [
    {
     "data": {
      "text/plain": [
       "2.0"
      ]
     },
     "execution_count": 7,
     "metadata": {},
     "output_type": "execute_result"
    }
   ],
   "source": [
    "sh_ex1.area()"
   ]
  },
  {
   "cell_type": "code",
   "execution_count": 8,
   "metadata": {},
   "outputs": [
    {
     "data": {
      "text/plain": [
       "600.0"
      ]
     },
     "execution_count": 8,
     "metadata": {},
     "output_type": "execute_result"
    }
   ],
   "source": [
    "sh_ex1.mass()"
   ]
  },
  {
   "cell_type": "code",
   "execution_count": 9,
   "metadata": {},
   "outputs": [
    {
     "data": {
      "text/plain": [
       "(2.0, 1.5)"
      ]
     },
     "execution_count": 9,
     "metadata": {},
     "output_type": "execute_result"
    }
   ],
   "source": [
    "sh_ex1.mass_center()"
   ]
  },
  {
   "cell_type": "code",
   "execution_count": 10,
   "metadata": {},
   "outputs": [],
   "source": [
    "# Question 3\n",
    "\n",
    "def tic_tac_toe(matrix):\n",
    "    #vertical\n",
    "    if matrix[0][0] == matrix[1][0] == matrix[2][0]:\n",
    "        return matrix[0][0]\n",
    "        \n",
    "    elif matrix[0][1] == matrix[1][1] == matrix[2][1]:\n",
    "        return matrix[0][1]\n",
    "    \n",
    "    elif matrix[0][2] == matrix[1][2] == matrix[2][2]:\n",
    "        return matrix[0][2]\n",
    "        \n",
    "    #horizontal\n",
    "    if matrix[0][0] == matrix[0][1] == matrix[0][2]:\n",
    "        return matrix[0][0]\n",
    "    \n",
    "    elif matrix[1][0] == matrix[1][1] == matrix[1][2]:\n",
    "        return matrix[1][0]\n",
    "    \n",
    "    elif matrix[2][0] == matrix[2][1] == matrix[2][2]:\n",
    "        return matrix[2][0]\n",
    "        \n",
    "    #diagonal\n",
    "    if matrix[0][0] == matrix[1][1] == matrix[2][2]:\n",
    "        return matrix[0][0]\n",
    "    \n",
    "    elif matrix[0][2] == matrix[1][1] == matrix[2][0]:\n",
    "        return matrix[0][2]\n",
    "    \n",
    "    else:\n",
    "        return 'Draw'"
   ]
  },
  {
   "cell_type": "code",
   "execution_count": 11,
   "metadata": {},
   "outputs": [
    {
     "data": {
      "text/plain": [
       "'X'"
      ]
     },
     "execution_count": 11,
     "metadata": {},
     "output_type": "execute_result"
    }
   ],
   "source": [
    "tic_tac_toe([ [\"X\", \"O\", \"X\"], [\"O\", \"X\", \"O\"], [\"O\", \"X\", \"X\"] ])"
   ]
  },
  {
   "cell_type": "code",
   "execution_count": 12,
   "metadata": {},
   "outputs": [
    {
     "data": {
      "text/plain": [
       "'O'"
      ]
     },
     "execution_count": 12,
     "metadata": {},
     "output_type": "execute_result"
    }
   ],
   "source": [
    "tic_tac_toe([ [\"O\", \"O\", \"O\"], [\"O\", \"X\", \"X\"], [\"E\", \"X\", \"X\"] ])"
   ]
  },
  {
   "cell_type": "code",
   "execution_count": 13,
   "metadata": {},
   "outputs": [
    {
     "data": {
      "text/plain": [
       "'Draw'"
      ]
     },
     "execution_count": 13,
     "metadata": {},
     "output_type": "execute_result"
    }
   ],
   "source": [
    "tic_tac_toe([ [\"X\", \"X\", \"O\"], [\"O\", \"O\", \"X\"], [\"X\", \"X\", \"O\"] ])"
   ]
  },
  {
   "cell_type": "code",
   "execution_count": 14,
   "metadata": {},
   "outputs": [
    {
     "name": "stdout",
     "output_type": "stream",
     "text": [
      "PC Files: spotifysetup.exe, dog.jpg\n",
      "PC Files: antivirus.exe, cat.pdf\n",
      "PC Files: notvirus.exe, funnycat.gif\n"
     ]
    }
   ],
   "source": [
    "# Question 4.\n",
    "\n",
    "def remove_virus(file_names):\n",
    "    files = file_names.split(\": \")\n",
    "    files = \"\".join(files[1:]).split(\", \")\n",
    "    \n",
    "    virus_names = ['lethalmalware.exe', 'dangerousvirus.exe ', 'virus.exe']\n",
    "    \n",
    "    result = []\n",
    "    \n",
    "    for file in files:\n",
    "        if file not in virus_names:\n",
    "            result.append(file)\n",
    "            \n",
    "    return f'PC Files: {\", \".join(result)}'\n",
    "\n",
    "print(remove_virus(\"PC Files: spotifysetup.exe, virus.exe, dog.jpg\"))\n",
    "print(remove_virus(\"PC Files: antivirus.exe, cat.pdf, lethalmalware.exe, dangerousvirus.exe \"))\n",
    "print(remove_virus(\"PC Files: notvirus.exe, funnycat.gif\"))"
   ]
  },
  {
   "cell_type": "code",
   "execution_count": 15,
   "metadata": {},
   "outputs": [],
   "source": [
    "# Question 5.\n",
    "\n",
    "def will_hit(trajectory, pos):\n",
    "    traj = trajectory.split()\n",
    "    m = int(traj[2][:-1])\n",
    "    x = pos[0]\n",
    "    b = int(traj[4])\n",
    "    if traj[3] == '+' :\n",
    "        y = m*x + b\n",
    "    else:\n",
    "        y = m*x - b\n",
    "    if y == pos[1]:\n",
    "        return True\n",
    "    else:\n",
    "        return False"
   ]
  },
  {
   "cell_type": "code",
   "execution_count": 16,
   "metadata": {},
   "outputs": [
    {
     "name": "stdout",
     "output_type": "stream",
     "text": [
      "False\n",
      "True\n",
      "False\n"
     ]
    }
   ],
   "source": [
    "print(will_hit(\"y = 2x - 5\", (0, 0)))\n",
    "print(will_hit(\"y = -4x + 6\", (1, 2)))\n",
    "print(will_hit(\"y = 2x + 6\", (3, 2)))"
   ]
  },
  {
   "cell_type": "code",
   "execution_count": null,
   "metadata": {},
   "outputs": [],
   "source": []
  }
 ],
 "metadata": {
  "kernelspec": {
   "display_name": "Python 3",
   "language": "python",
   "name": "python3"
  },
  "language_info": {
   "codemirror_mode": {
    "name": "ipython",
    "version": 3
   },
   "file_extension": ".py",
   "mimetype": "text/x-python",
   "name": "python",
   "nbconvert_exporter": "python",
   "pygments_lexer": "ipython3",
   "version": "3.8.3"
  }
 },
 "nbformat": 4,
 "nbformat_minor": 4
}
