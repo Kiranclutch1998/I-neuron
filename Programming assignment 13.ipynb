{
 "cells": [
  {
   "cell_type": "code",
   "execution_count": 1,
   "metadata": {},
   "outputs": [
    {
     "name": "stdout",
     "output_type": "stream",
     "text": [
      "Enter values of D with commas seperating : 100,150,180\n",
      "Values of Q are : 18,22,24\n"
     ]
    }
   ],
   "source": [
    "# Question 1\n",
    "\n",
    "import math\n",
    "\n",
    "C = 50\n",
    "H = 30\n",
    "D = input('Enter values of D with commas seperating : ').split(',')\n",
    "result = []\n",
    "\n",
    "for i in D:\n",
    "    Q = math.sqrt((2 * C * int(i)) / H)\n",
    "    result.append(str(int(Q)))\n",
    "    \n",
    "print('Values of Q are :',','.join(result))\n",
    "  "
   ]
  },
  {
   "cell_type": "code",
   "execution_count": 2,
   "metadata": {},
   "outputs": [
    {
     "name": "stdout",
     "output_type": "stream",
     "text": [
      "Enter values of X,Y : 3,5\n",
      "[[0, 0, 0, 0, 0], [0, 1, 2, 3, 4], [0, 2, 4, 6, 8]]\n"
     ]
    }
   ],
   "source": [
    "# Question 2\n",
    "\n",
    "xy = input('Enter values of X,Y : ').split(',')\n",
    "row = list(range(int(xy[0])))\n",
    "column = list(range(int(xy[1])))\n",
    "\n",
    "output = [ [i*j for j in column ] for i in row ]\n",
    "print(output)      \n",
    "        "
   ]
  },
  {
   "cell_type": "code",
   "execution_count": 3,
   "metadata": {},
   "outputs": [
    {
     "name": "stdout",
     "output_type": "stream",
     "text": [
      "Enter words with commas seperating : without,hello,bag,world\n",
      "Words after sorting :-  bag,hello,without,world\n"
     ]
    }
   ],
   "source": [
    "# Question 3\n",
    "\n",
    "words_input = input('Enter words with commas seperating : ').split(',') \n",
    "words_input.sort()\n",
    "print('Words after sorting :- ',','.join(words_input))"
   ]
  },
  {
   "cell_type": "code",
   "execution_count": 4,
   "metadata": {},
   "outputs": [
    {
     "name": "stdout",
     "output_type": "stream",
     "text": [
      "Enter words with spaces seperating : hello world and practice makes perfect and hello world again\n",
      "Words after sorting :-  again and hello makes perfect practice world\n"
     ]
    }
   ],
   "source": [
    "# Question 4\n",
    "\n",
    "words_input1 = input('Enter words with spaces seperating : ').split(' ') \n",
    "output = list(set(words_input1))\n",
    "output.sort()\n",
    "print('Words after sorting :- ',' '.join(output))"
   ]
  },
  {
   "cell_type": "code",
   "execution_count": 5,
   "metadata": {},
   "outputs": [
    {
     "name": "stdout",
     "output_type": "stream",
     "text": [
      "Enter the sentence : hello world! 123\n",
      "No of Letters :  10\n",
      "No of Digits :  3\n"
     ]
    }
   ],
   "source": [
    "# Question 5\n",
    "\n",
    "accept = input('Enter the sentence : ')\n",
    "\n",
    "letter = 0\n",
    "digit = 0\n",
    "\n",
    "for i in accept:\n",
    "    if i.isalpha():\n",
    "        letter += 1\n",
    "    if i.isdigit():\n",
    "        digit += 1\n",
    "        \n",
    "print('No of Letters : ',letter)\n",
    "print('No of Digits : ',digit)"
   ]
  },
  {
   "cell_type": "code",
   "execution_count": 7,
   "metadata": {},
   "outputs": [
    {
     "name": "stdout",
     "output_type": "stream",
     "text": [
      "Enter passwords : ABd1234@1,a F1#,2w3E*,2We3345\n",
      "Valid Passwords:  ABd1234@1\n"
     ]
    }
   ],
   "source": [
    "# Question 6\n",
    "\n",
    "import re\n",
    "\n",
    "pwd = input('Enter passwords : ').split(',')\n",
    "accepted_pwd = []\n",
    "\n",
    "for i in pwd:\n",
    "    if len(i) < 6 or len(i) > 12:\n",
    "        break\n",
    "    elif not re.search('[a-z]',i):\n",
    "        break\n",
    "    elif not re.search('[A-Z]',i):\n",
    "        break\n",
    "    elif not re.search('[0-9]',i):\n",
    "        break\n",
    "    elif not re.search('[$#@]',i):\n",
    "        break\n",
    "    else:\n",
    "        accepted_pwd.append(i)\n",
    "        \n",
    "print('Valid Passwords: ',','.join(accepted_pwd))"
   ]
  },
  {
   "cell_type": "code",
   "execution_count": null,
   "metadata": {},
   "outputs": [],
   "source": []
  }
 ],
 "metadata": {
  "kernelspec": {
   "display_name": "Python 3",
   "language": "python",
   "name": "python3"
  },
  "language_info": {
   "codemirror_mode": {
    "name": "ipython",
    "version": 3
   },
   "file_extension": ".py",
   "mimetype": "text/x-python",
   "name": "python",
   "nbconvert_exporter": "python",
   "pygments_lexer": "ipython3",
   "version": "3.8.3"
  }
 },
 "nbformat": 4,
 "nbformat_minor": 4
}
